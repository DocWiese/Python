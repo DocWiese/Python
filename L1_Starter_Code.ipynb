{
 "cells": [
  {
   "cell_type": "markdown",
   "metadata": {},
   "source": [
    "Before we get started, a couple of reminders to keep in mind when using iPython notebooks:\n",
    "\n",
    "- Remember that you can see from the left side of a code cell when it was last run if there is a number within the brackets.\n",
    "- When you start a new notebook session, make sure you run all of the cells up to the point where you last left off. Even if the output is still visible from when you ran the cells in your previous session, the kernel starts in a fresh state so you'll need to reload the data, etc. on a new session.\n",
    "- The previous point is useful to keep in mind if your answers do not match what is expected in the lesson's quizzes. Try reloading the data and run all of the processing steps one by one in order to make sure that you are working with the same variables and data that are at each quiz stage.\n",
    "\n",
    "\n",
    "## Load Data from CSVs"
   ]
  },
  {
   "cell_type": "code",
   "execution_count": 1,
   "metadata": {
    "collapsed": true,
    "scrolled": true
   },
   "outputs": [],
   "source": [
    "import unicodecsv\n",
    "\n",
    "## Longer version of code (replaced with shorter, equivalent version below)\n",
    "\n",
    "# enrollments = []\n",
    "# f = open('enrollments.csv', 'rb')\n",
    "# reader = unicodecsv.DictReader(f)\n",
    "# for row in reader:\n",
    "#     enrollments.append(row)\n",
    "# f.close()\n",
    "\n",
    "with open('enrollments.csv', 'rb') as f:\n",
    "    reader = unicodecsv.DictReader(f)\n",
    "    enrollments = list(reader)"
   ]
  },
  {
   "cell_type": "code",
   "execution_count": null,
   "metadata": {
    "collapsed": true
   },
   "outputs": [],
   "source": [
    "# show contents of list of dictionaries\n",
    "enrollments"
   ]
  },
  {
   "cell_type": "code",
   "execution_count": 2,
   "metadata": {},
   "outputs": [
    {
     "name": "stdout",
     "output_type": "stream",
     "text": [
      "{'lessons_completed': '0.0', 'num_courses_visited': '1.0', 'total_minutes_visited': '11.6793745', 'account_key': '0', 'projects_completed': '0.0', 'utc_date': '2015-01-09'}\n",
      "{'lesson_key': '3176718735', 'creation_date': '2015-01-14', 'processing_state': 'EVALUATED', 'account_key': '256', 'completion_date': '2015-01-16', 'assigned_rating': 'UNGRADED'}\n"
     ]
    }
   ],
   "source": [
    "#####################################\n",
    "#                 1                 #\n",
    "#####################################\n",
    "\n",
    "## Read in the data from daily_engagement.csv and project_submissions.csv \n",
    "## and store the results in the below variables.\n",
    "## Then look at the first row of each table.\n",
    "\n",
    "with open('daily_engagement.csv', 'rb') as f:\n",
    "    reader = unicodecsv.DictReader(f)\n",
    "    daily_engagement = list(reader)\n",
    "\n",
    "print(daily_engagement[0])    \n",
    "    \n",
    "with open('project_submissions.csv', 'rb') as f:\n",
    "    reader = unicodecsv.DictReader(f)\n",
    "    project_submissions = list(reader)    \n",
    "\n",
    "print(project_submissions[0])  "
   ]
  },
  {
   "cell_type": "code",
   "execution_count": null,
   "metadata": {
    "collapsed": true
   },
   "outputs": [],
   "source": [
    "# writing an own function is more useful\n",
    "def read_csv(filename):\n",
    "    with open(filename, 'rb') as f:\n",
    "        reader = unicodecsv.DictReader(f)\n",
    "        return list(reader)"
   ]
  },
  {
   "cell_type": "code",
   "execution_count": null,
   "metadata": {
    "collapsed": true
   },
   "outputs": [],
   "source": [
    "read_csv('daily_engagement.csv')[0]"
   ]
  },
  {
   "cell_type": "raw",
   "metadata": {},
   "source": []
  },
  {
   "cell_type": "markdown",
   "metadata": {},
   "source": [
    "## Fixing Data Types"
   ]
  },
  {
   "cell_type": "code",
   "execution_count": 3,
   "metadata": {
    "scrolled": true
   },
   "outputs": [
    {
     "data": {
      "text/plain": [
       "{'account_key': '448',\n",
       " 'cancel_date': datetime.datetime(2015, 1, 14, 0, 0),\n",
       " 'days_to_cancel': 65,\n",
       " 'is_canceled': True,\n",
       " 'is_udacity': True,\n",
       " 'join_date': datetime.datetime(2014, 11, 10, 0, 0),\n",
       " 'status': 'canceled'}"
      ]
     },
     "execution_count": 3,
     "metadata": {},
     "output_type": "execute_result"
    }
   ],
   "source": [
    "from datetime import datetime as dt\n",
    "\n",
    "# Takes a date as a string, and returns a Python datetime object. \n",
    "# If there is no date given, returns None\n",
    "def parse_date(date):\n",
    "    if date == '':\n",
    "        return None\n",
    "    else:\n",
    "        return dt.strptime(date, '%Y-%m-%d')\n",
    "    \n",
    "# Takes a string which is either an empty string or represents an integer,\n",
    "# and returns an int or None.\n",
    "def parse_maybe_int(i):\n",
    "    if i == '':\n",
    "        return None\n",
    "    else:\n",
    "        return int(i)\n",
    "\n",
    "# Clean up the data types in the enrollments table\n",
    "for enrollment in enrollments:\n",
    "    enrollment['cancel_date'] = parse_date(enrollment['cancel_date'])\n",
    "    enrollment['days_to_cancel'] = parse_maybe_int(enrollment['days_to_cancel'])\n",
    "    # returns boolean true if string = 'true'\n",
    "    enrollment['is_canceled'] = enrollment['is_canceled'] == 'True'\n",
    "    # returns boolean true if string = 'true'\n",
    "    enrollment['is_udacity'] = enrollment['is_udacity'] == 'True'\n",
    "    enrollment['join_date'] = parse_date(enrollment['join_date'])\n",
    "    \n",
    "enrollments[0]"
   ]
  },
  {
   "cell_type": "code",
   "execution_count": 4,
   "metadata": {},
   "outputs": [
    {
     "data": {
      "text/plain": [
       "{'account_key': '0',\n",
       " 'lessons_completed': 0,\n",
       " 'num_courses_visited': 1,\n",
       " 'projects_completed': 0,\n",
       " 'total_minutes_visited': 11.6793745,\n",
       " 'utc_date': datetime.datetime(2015, 1, 9, 0, 0)}"
      ]
     },
     "execution_count": 4,
     "metadata": {},
     "output_type": "execute_result"
    }
   ],
   "source": [
    "# Clean up the data types in the engagement table\n",
    "for engagement_record in daily_engagement:\n",
    "    # !!!!!!!!!!!!!!!!!!!!!!!!!!!!!!!!!!!!!!!!!!!!!!!!!!!!!!!!!!!!!!!!\n",
    "    # direct conversion to int would fail due to decimal point !!!!!!!\n",
    "    # !!!!!!!!!!!!!!!!!!!!!!!!!!!!!!!!!!!!!!!!!!!!!!!!!!!!!!!!!!!!!!!!\n",
    "    engagement_record['lessons_completed'] = int(float(engagement_record['lessons_completed']))\n",
    "    engagement_record['num_courses_visited'] = int(float(engagement_record['num_courses_visited']))\n",
    "    engagement_record['projects_completed'] = int(float(engagement_record['projects_completed']))\n",
    "    engagement_record['total_minutes_visited'] = float(engagement_record['total_minutes_visited'])\n",
    "    engagement_record['utc_date'] = parse_date(engagement_record['utc_date'])\n",
    "    \n",
    "daily_engagement[0]"
   ]
  },
  {
   "cell_type": "code",
   "execution_count": 5,
   "metadata": {},
   "outputs": [
    {
     "data": {
      "text/plain": [
       "{'account_key': '256',\n",
       " 'assigned_rating': 'UNGRADED',\n",
       " 'completion_date': datetime.datetime(2015, 1, 16, 0, 0),\n",
       " 'creation_date': datetime.datetime(2015, 1, 14, 0, 0),\n",
       " 'lesson_key': '3176718735',\n",
       " 'processing_state': 'EVALUATED'}"
      ]
     },
     "execution_count": 5,
     "metadata": {},
     "output_type": "execute_result"
    }
   ],
   "source": [
    "# Clean up the data types in the submissions table\n",
    "for submission in project_submissions:\n",
    "    submission['completion_date'] = parse_date(submission['completion_date'])\n",
    "    submission['creation_date'] = parse_date(submission['creation_date'])\n",
    "\n",
    "project_submissions[0]"
   ]
  },
  {
   "cell_type": "markdown",
   "metadata": {},
   "source": [
    "Note when running the above cells that we are actively changing the contents of our data variables. If you try to run these cells multiple times in the same session, an error will occur.\n",
    "\n",
    "## Investigating the Data"
   ]
  },
  {
   "cell_type": "code",
   "execution_count": null,
   "metadata": {
    "collapsed": true
   },
   "outputs": [],
   "source": []
  },
  {
   "cell_type": "code",
   "execution_count": 6,
   "metadata": {},
   "outputs": [
    {
     "name": "stdout",
     "output_type": "stream",
     "text": [
      "enrollments:  1640\n",
      "daily eng.:  136240\n",
      "proj subm.:  3642\n"
     ]
    }
   ],
   "source": [
    "#####################################\n",
    "#                 2                 #\n",
    "#####################################\n",
    "\n",
    "## Find the total number of rows and the number of unique students (account keys)\n",
    "## in each table.\n",
    "print(\"enrollments: \", len(enrollments))\n",
    "print(\"daily eng.: \", len(daily_engagement))\n",
    "print(\"proj subm.: \", len(project_submissions))"
   ]
  },
  {
   "cell_type": "code",
   "execution_count": 7,
   "metadata": {
    "collapsed": true
   },
   "outputs": [],
   "source": [
    "# get distinct vars by adding the values to a list\n",
    "def conv_to_set(inp_list):\n",
    "    myset = set()\n",
    "    for itervar in inp_list:\n",
    "        # a dictionary is always unordered\n",
    "        myset.add(itervar['account_key'])\n",
    "    return myset"
   ]
  },
  {
   "cell_type": "code",
   "execution_count": 8,
   "metadata": {},
   "outputs": [
    {
     "name": "stdout",
     "output_type": "stream",
     "text": [
      "1302\n",
      "1237\n",
      "743\n"
     ]
    }
   ],
   "source": [
    "# create set of unique account keys for all 3 tables\n",
    "set_enrollments = conv_to_set(enrollments)\n",
    "set_daily_eng = conv_to_set(daily_engagement)\n",
    "set_proj_subm = conv_to_set(project_submissions)\n",
    "\n",
    "print(len(set_enrollments))\n",
    "print(len(set_daily_eng))\n",
    "print(len(set_proj_subm))"
   ]
  },
  {
   "cell_type": "markdown",
   "metadata": {},
   "source": [
    "## Problems in the Data"
   ]
  },
  {
   "cell_type": "code",
   "execution_count": 9,
   "metadata": {
    "collapsed": true
   },
   "outputs": [],
   "source": [
    "#####################################\n",
    "#                 3                 #\n",
    "#####################################\n",
    "\n",
    "## Rename the \"acct\" column in the daily_engagement table to \"account_key\".\n",
    "\n",
    "# has already been done manually in csv :)"
   ]
  },
  {
   "cell_type": "markdown",
   "metadata": {},
   "source": [
    "## Missing Engagement Records"
   ]
  },
  {
   "cell_type": "code",
   "execution_count": 10,
   "metadata": {},
   "outputs": [
    {
     "name": "stdout",
     "output_type": "stream",
     "text": [
      "{'cancel_date': datetime.datetime(2014, 11, 12, 0, 0), 'days_to_cancel': 0, 'account_key': '1219', 'is_udacity': False, 'join_date': datetime.datetime(2014, 11, 12, 0, 0), 'is_canceled': True, 'status': 'canceled'}\n",
      "{'cancel_date': datetime.datetime(2014, 11, 13, 0, 0), 'days_to_cancel': 0, 'account_key': '871', 'is_udacity': False, 'join_date': datetime.datetime(2014, 11, 13, 0, 0), 'is_canceled': True, 'status': 'canceled'}\n",
      "{'cancel_date': datetime.datetime(2014, 11, 15, 0, 0), 'days_to_cancel': 0, 'account_key': '1218', 'is_udacity': False, 'join_date': datetime.datetime(2014, 11, 15, 0, 0), 'is_canceled': True, 'status': 'canceled'}\n",
      "{'cancel_date': datetime.datetime(2014, 12, 4, 0, 0), 'days_to_cancel': 0, 'account_key': '654', 'is_udacity': False, 'join_date': datetime.datetime(2014, 12, 4, 0, 0), 'is_canceled': True, 'status': 'canceled'}\n",
      "{'cancel_date': datetime.datetime(2014, 12, 4, 0, 0), 'days_to_cancel': 0, 'account_key': '654', 'is_udacity': False, 'join_date': datetime.datetime(2014, 12, 4, 0, 0), 'is_canceled': True, 'status': 'canceled'}\n",
      "{'cancel_date': datetime.datetime(2014, 12, 3, 0, 0), 'days_to_cancel': 0, 'account_key': '654', 'is_udacity': False, 'join_date': datetime.datetime(2014, 12, 3, 0, 0), 'is_canceled': True, 'status': 'canceled'}\n",
      "{'cancel_date': datetime.datetime(2014, 12, 4, 0, 0), 'days_to_cancel': 0, 'account_key': '964', 'is_udacity': False, 'join_date': datetime.datetime(2014, 12, 4, 0, 0), 'is_canceled': True, 'status': 'canceled'}\n",
      "{'cancel_date': datetime.datetime(2014, 12, 9, 0, 0), 'days_to_cancel': 0, 'account_key': '817', 'is_udacity': False, 'join_date': datetime.datetime(2014, 12, 9, 0, 0), 'is_canceled': True, 'status': 'canceled'}\n",
      "{'cancel_date': datetime.datetime(2015, 1, 7, 0, 0), 'days_to_cancel': 0, 'account_key': '1171', 'is_udacity': False, 'join_date': datetime.datetime(2015, 1, 7, 0, 0), 'is_canceled': True, 'status': 'canceled'}\n",
      "{'cancel_date': datetime.datetime(2015, 1, 8, 0, 0), 'days_to_cancel': 0, 'account_key': '884', 'is_udacity': False, 'join_date': datetime.datetime(2015, 1, 8, 0, 0), 'is_canceled': True, 'status': 'canceled'}\n",
      "{'cancel_date': datetime.datetime(2014, 11, 17, 0, 0), 'days_to_cancel': 0, 'account_key': '875', 'is_udacity': False, 'join_date': datetime.datetime(2014, 11, 17, 0, 0), 'is_canceled': True, 'status': 'canceled'}\n",
      "{'cancel_date': datetime.datetime(2014, 12, 4, 0, 0), 'days_to_cancel': 0, 'account_key': '1120', 'is_udacity': False, 'join_date': datetime.datetime(2014, 12, 4, 0, 0), 'is_canceled': True, 'status': 'canceled'}\n",
      "{'cancel_date': datetime.datetime(2014, 12, 5, 0, 0), 'days_to_cancel': 0, 'account_key': '728', 'is_udacity': False, 'join_date': datetime.datetime(2014, 12, 5, 0, 0), 'is_canceled': True, 'status': 'canceled'}\n",
      "{'cancel_date': datetime.datetime(2015, 1, 11, 0, 0), 'days_to_cancel': 0, 'account_key': '1191', 'is_udacity': False, 'join_date': datetime.datetime(2015, 1, 11, 0, 0), 'is_canceled': True, 'status': 'canceled'}\n",
      "{'cancel_date': datetime.datetime(2015, 3, 10, 0, 0), 'days_to_cancel': 59, 'account_key': '1304', 'is_udacity': True, 'join_date': datetime.datetime(2015, 1, 10, 0, 0), 'is_canceled': True, 'status': 'canceled'}\n",
      "{'cancel_date': datetime.datetime(2015, 6, 17, 0, 0), 'days_to_cancel': 99, 'account_key': '1304', 'is_udacity': True, 'join_date': datetime.datetime(2015, 3, 10, 0, 0), 'is_canceled': True, 'status': 'canceled'}\n",
      "{'cancel_date': datetime.datetime(2015, 1, 11, 0, 0), 'days_to_cancel': 0, 'account_key': '1010', 'is_udacity': False, 'join_date': datetime.datetime(2015, 1, 11, 0, 0), 'is_canceled': True, 'status': 'canceled'}\n",
      "{'cancel_date': datetime.datetime(2014, 11, 12, 0, 0), 'days_to_cancel': 0, 'account_key': '841', 'is_udacity': False, 'join_date': datetime.datetime(2014, 11, 12, 0, 0), 'is_canceled': True, 'status': 'canceled'}\n",
      "{'cancel_date': datetime.datetime(2014, 12, 3, 0, 0), 'days_to_cancel': 0, 'account_key': '707', 'is_udacity': False, 'join_date': datetime.datetime(2014, 12, 3, 0, 0), 'is_canceled': True, 'status': 'canceled'}\n",
      "{'cancel_date': datetime.datetime(2014, 12, 4, 0, 0), 'days_to_cancel': 0, 'account_key': '717', 'is_udacity': False, 'join_date': datetime.datetime(2014, 12, 4, 0, 0), 'is_canceled': True, 'status': 'canceled'}\n",
      "{'cancel_date': datetime.datetime(2014, 12, 7, 0, 0), 'days_to_cancel': 0, 'account_key': '727', 'is_udacity': False, 'join_date': datetime.datetime(2014, 12, 7, 0, 0), 'is_canceled': True, 'status': 'canceled'}\n",
      "{'cancel_date': datetime.datetime(2015, 1, 12, 0, 0), 'days_to_cancel': 0, 'account_key': '1273', 'is_udacity': False, 'join_date': datetime.datetime(2015, 1, 12, 0, 0), 'is_canceled': True, 'status': 'canceled'}\n",
      "{'cancel_date': datetime.datetime(2014, 11, 10, 0, 0), 'days_to_cancel': 0, 'account_key': '1238', 'is_udacity': False, 'join_date': datetime.datetime(2014, 11, 10, 0, 0), 'is_canceled': True, 'status': 'canceled'}\n",
      "{'cancel_date': datetime.datetime(2015, 2, 8, 0, 0), 'days_to_cancel': 0, 'account_key': '1044', 'is_udacity': False, 'join_date': datetime.datetime(2015, 2, 8, 0, 0), 'is_canceled': True, 'status': 'canceled'}\n",
      "{'cancel_date': datetime.datetime(2015, 3, 5, 0, 0), 'days_to_cancel': 0, 'account_key': '749', 'is_udacity': False, 'join_date': datetime.datetime(2015, 3, 5, 0, 0), 'is_canceled': True, 'status': 'canceled'}\n",
      "{'cancel_date': datetime.datetime(2015, 3, 7, 0, 0), 'days_to_cancel': 0, 'account_key': '1129', 'is_udacity': False, 'join_date': datetime.datetime(2015, 3, 7, 0, 0), 'is_canceled': True, 'status': 'canceled'}\n",
      "{'cancel_date': datetime.datetime(2015, 2, 11, 0, 0), 'days_to_cancel': 0, 'account_key': '1129', 'is_udacity': False, 'join_date': datetime.datetime(2015, 2, 11, 0, 0), 'is_canceled': True, 'status': 'canceled'}\n",
      "{'cancel_date': datetime.datetime(2015, 4, 6, 0, 0), 'days_to_cancel': 0, 'account_key': '926', 'is_udacity': False, 'join_date': datetime.datetime(2015, 4, 6, 0, 0), 'is_canceled': True, 'status': 'canceled'}\n",
      "{'cancel_date': datetime.datetime(2015, 5, 8, 0, 0), 'days_to_cancel': 0, 'account_key': '711', 'is_udacity': False, 'join_date': datetime.datetime(2015, 5, 8, 0, 0), 'is_canceled': True, 'status': 'canceled'}\n",
      "{'cancel_date': datetime.datetime(2015, 1, 8, 0, 0), 'days_to_cancel': 0, 'account_key': '803', 'is_udacity': False, 'join_date': datetime.datetime(2015, 1, 8, 0, 0), 'is_canceled': True, 'status': 'canceled'}\n",
      "{'cancel_date': datetime.datetime(2015, 2, 6, 0, 0), 'days_to_cancel': 0, 'account_key': '799', 'is_udacity': False, 'join_date': datetime.datetime(2015, 2, 6, 0, 0), 'is_canceled': True, 'status': 'canceled'}\n",
      "{'cancel_date': datetime.datetime(2015, 2, 6, 0, 0), 'days_to_cancel': 0, 'account_key': '789', 'is_udacity': False, 'join_date': datetime.datetime(2015, 2, 6, 0, 0), 'is_canceled': True, 'status': 'canceled'}\n",
      "{'cancel_date': datetime.datetime(2015, 3, 4, 0, 0), 'days_to_cancel': 0, 'account_key': '819', 'is_udacity': False, 'join_date': datetime.datetime(2015, 3, 4, 0, 0), 'is_canceled': True, 'status': 'canceled'}\n",
      "{'cancel_date': datetime.datetime(2015, 3, 4, 0, 0), 'days_to_cancel': 0, 'account_key': '819', 'is_udacity': False, 'join_date': datetime.datetime(2015, 3, 4, 0, 0), 'is_canceled': True, 'status': 'canceled'}\n",
      "{'cancel_date': datetime.datetime(2015, 5, 29, 0, 0), 'days_to_cancel': 0, 'account_key': '902', 'is_udacity': False, 'join_date': datetime.datetime(2015, 5, 29, 0, 0), 'is_canceled': True, 'status': 'canceled'}\n",
      "{'cancel_date': datetime.datetime(2015, 5, 29, 0, 0), 'days_to_cancel': 0, 'account_key': '996', 'is_udacity': False, 'join_date': datetime.datetime(2015, 5, 29, 0, 0), 'is_canceled': True, 'status': 'canceled'}\n",
      "{'cancel_date': datetime.datetime(2015, 1, 12, 0, 0), 'days_to_cancel': 0, 'account_key': '1213', 'is_udacity': False, 'join_date': datetime.datetime(2015, 1, 12, 0, 0), 'is_canceled': True, 'status': 'canceled'}\n",
      "{'cancel_date': datetime.datetime(2015, 1, 12, 0, 0), 'days_to_cancel': 0, 'account_key': '733', 'is_udacity': False, 'join_date': datetime.datetime(2015, 1, 12, 0, 0), 'is_canceled': True, 'status': 'canceled'}\n",
      "{'cancel_date': datetime.datetime(2015, 5, 28, 0, 0), 'days_to_cancel': 0, 'account_key': '1237', 'is_udacity': False, 'join_date': datetime.datetime(2015, 5, 28, 0, 0), 'is_canceled': True, 'status': 'canceled'}\n",
      "{'cancel_date': datetime.datetime(2015, 6, 1, 0, 0), 'days_to_cancel': 0, 'account_key': '1069', 'is_udacity': True, 'join_date': datetime.datetime(2015, 6, 1, 0, 0), 'is_canceled': True, 'status': 'canceled'}\n",
      "{'cancel_date': datetime.datetime(2015, 6, 9, 0, 0), 'days_to_cancel': 0, 'account_key': '1086', 'is_udacity': False, 'join_date': datetime.datetime(2015, 6, 9, 0, 0), 'is_canceled': True, 'status': 'canceled'}\n",
      "{'cancel_date': datetime.datetime(2015, 3, 6, 0, 0), 'days_to_cancel': 0, 'account_key': '1190', 'is_udacity': False, 'join_date': datetime.datetime(2015, 3, 6, 0, 0), 'is_canceled': True, 'status': 'canceled'}\n",
      "{'cancel_date': datetime.datetime(2015, 4, 2, 0, 0), 'days_to_cancel': 0, 'account_key': '914', 'is_udacity': False, 'join_date': datetime.datetime(2015, 4, 2, 0, 0), 'is_canceled': True, 'status': 'canceled'}\n",
      "{'cancel_date': datetime.datetime(2015, 7, 17, 0, 0), 'days_to_cancel': 0, 'account_key': '914', 'is_udacity': False, 'join_date': datetime.datetime(2015, 7, 17, 0, 0), 'is_canceled': True, 'status': 'canceled'}\n",
      "{'cancel_date': datetime.datetime(2015, 7, 17, 0, 0), 'days_to_cancel': 0, 'account_key': '968', 'is_udacity': False, 'join_date': datetime.datetime(2015, 7, 17, 0, 0), 'is_canceled': True, 'status': 'canceled'}\n",
      "{'cancel_date': datetime.datetime(2015, 7, 17, 0, 0), 'days_to_cancel': 0, 'account_key': '1155', 'is_udacity': False, 'join_date': datetime.datetime(2015, 7, 17, 0, 0), 'is_canceled': True, 'status': 'canceled'}\n",
      "{'cancel_date': datetime.datetime(2015, 5, 10, 0, 0), 'days_to_cancel': 0, 'account_key': '766', 'is_udacity': False, 'join_date': datetime.datetime(2015, 5, 10, 0, 0), 'is_canceled': True, 'status': 'canceled'}\n",
      "{'cancel_date': datetime.datetime(2015, 4, 5, 0, 0), 'days_to_cancel': 0, 'account_key': '739', 'is_udacity': False, 'join_date': datetime.datetime(2015, 4, 5, 0, 0), 'is_canceled': True, 'status': 'canceled'}\n",
      "{'cancel_date': datetime.datetime(2015, 4, 7, 0, 0), 'days_to_cancel': 0, 'account_key': '1222', 'is_udacity': False, 'join_date': datetime.datetime(2015, 4, 7, 0, 0), 'is_canceled': True, 'status': 'canceled'}\n",
      "{'cancel_date': datetime.datetime(2015, 5, 31, 0, 0), 'days_to_cancel': 0, 'account_key': '1125', 'is_udacity': False, 'join_date': datetime.datetime(2015, 5, 31, 0, 0), 'is_canceled': True, 'status': 'canceled'}\n",
      "{'cancel_date': datetime.datetime(2015, 6, 7, 0, 0), 'days_to_cancel': 0, 'account_key': '1025', 'is_udacity': False, 'join_date': datetime.datetime(2015, 6, 7, 0, 0), 'is_canceled': True, 'status': 'canceled'}\n",
      "{'cancel_date': datetime.datetime(2015, 6, 6, 0, 0), 'days_to_cancel': 0, 'account_key': '750', 'is_udacity': False, 'join_date': datetime.datetime(2015, 6, 6, 0, 0), 'is_canceled': True, 'status': 'canceled'}\n",
      "{'cancel_date': datetime.datetime(2015, 8, 11, 0, 0), 'days_to_cancel': 0, 'account_key': '889', 'is_udacity': False, 'join_date': datetime.datetime(2015, 8, 11, 0, 0), 'is_canceled': True, 'status': 'canceled'}\n",
      "{'cancel_date': datetime.datetime(2014, 11, 10, 0, 0), 'days_to_cancel': 0, 'account_key': '737', 'is_udacity': False, 'join_date': datetime.datetime(2014, 11, 10, 0, 0), 'is_canceled': True, 'status': 'canceled'}\n",
      "{'cancel_date': datetime.datetime(2014, 11, 10, 0, 0), 'days_to_cancel': 0, 'account_key': '878', 'is_udacity': False, 'join_date': datetime.datetime(2014, 11, 10, 0, 0), 'is_canceled': True, 'status': 'canceled'}\n",
      "{'cancel_date': datetime.datetime(2015, 2, 7, 0, 0), 'days_to_cancel': 0, 'account_key': '981', 'is_udacity': False, 'join_date': datetime.datetime(2015, 2, 7, 0, 0), 'is_canceled': True, 'status': 'canceled'}\n",
      "{'cancel_date': None, 'days_to_cancel': None, 'account_key': '1101', 'is_udacity': True, 'join_date': datetime.datetime(2015, 2, 25, 0, 0), 'is_canceled': False, 'status': 'current'}\n",
      "{'cancel_date': datetime.datetime(2015, 3, 9, 0, 0), 'days_to_cancel': 0, 'account_key': '1148', 'is_udacity': False, 'join_date': datetime.datetime(2015, 3, 9, 0, 0), 'is_canceled': True, 'status': 'canceled'}\n",
      "{'cancel_date': datetime.datetime(2015, 3, 11, 0, 0), 'days_to_cancel': 0, 'account_key': '1186', 'is_udacity': False, 'join_date': datetime.datetime(2015, 3, 11, 0, 0), 'is_canceled': True, 'status': 'canceled'}\n",
      "{'cancel_date': datetime.datetime(2014, 12, 6, 0, 0), 'days_to_cancel': 0, 'account_key': '725', 'is_udacity': False, 'join_date': datetime.datetime(2014, 12, 6, 0, 0), 'is_canceled': True, 'status': 'canceled'}\n",
      "{'cancel_date': datetime.datetime(2015, 4, 4, 0, 0), 'days_to_cancel': 0, 'account_key': '1145', 'is_udacity': False, 'join_date': datetime.datetime(2015, 4, 4, 0, 0), 'is_canceled': True, 'status': 'canceled'}\n",
      "{'cancel_date': datetime.datetime(2015, 1, 8, 0, 0), 'days_to_cancel': 0, 'account_key': '802', 'is_udacity': False, 'join_date': datetime.datetime(2015, 1, 8, 0, 0), 'is_canceled': True, 'status': 'canceled'}\n",
      "{'cancel_date': datetime.datetime(2015, 1, 8, 0, 0), 'days_to_cancel': 0, 'account_key': '664', 'is_udacity': False, 'join_date': datetime.datetime(2015, 1, 8, 0, 0), 'is_canceled': True, 'status': 'canceled'}\n",
      "{'cancel_date': datetime.datetime(2015, 1, 12, 0, 0), 'days_to_cancel': 0, 'account_key': '997', 'is_udacity': False, 'join_date': datetime.datetime(2015, 1, 12, 0, 0), 'is_canceled': True, 'status': 'canceled'}\n",
      "{'cancel_date': datetime.datetime(2015, 5, 12, 0, 0), 'days_to_cancel': 0, 'account_key': '870', 'is_udacity': False, 'join_date': datetime.datetime(2015, 5, 12, 0, 0), 'is_canceled': True, 'status': 'canceled'}\n",
      "{'cancel_date': datetime.datetime(2015, 1, 13, 0, 0), 'days_to_cancel': 0, 'account_key': '1284', 'is_udacity': False, 'join_date': datetime.datetime(2015, 1, 13, 0, 0), 'is_canceled': True, 'status': 'canceled'}\n",
      "{'cancel_date': datetime.datetime(2015, 2, 9, 0, 0), 'days_to_cancel': 0, 'account_key': '1079', 'is_udacity': False, 'join_date': datetime.datetime(2015, 2, 9, 0, 0), 'is_canceled': True, 'status': 'canceled'}\n",
      "{'cancel_date': datetime.datetime(2015, 7, 14, 0, 0), 'days_to_cancel': 0, 'account_key': '1063', 'is_udacity': False, 'join_date': datetime.datetime(2015, 7, 14, 0, 0), 'is_canceled': True, 'status': 'canceled'}\n",
      "{'cancel_date': datetime.datetime(2015, 7, 20, 0, 0), 'days_to_cancel': 0, 'account_key': '1270', 'is_udacity': False, 'join_date': datetime.datetime(2015, 7, 20, 0, 0), 'is_canceled': True, 'status': 'canceled'}\n",
      "{'cancel_date': datetime.datetime(2015, 6, 3, 0, 0), 'days_to_cancel': 0, 'account_key': '1291', 'is_udacity': False, 'join_date': datetime.datetime(2015, 6, 3, 0, 0), 'is_canceled': True, 'status': 'canceled'}\n",
      "{'cancel_date': datetime.datetime(2015, 6, 9, 0, 0), 'days_to_cancel': 0, 'account_key': '1241', 'is_udacity': False, 'join_date': datetime.datetime(2015, 6, 9, 0, 0), 'is_canceled': True, 'status': 'canceled'}\n"
     ]
    }
   ],
   "source": [
    "#####################################\n",
    "#                 4                 #\n",
    "#####################################\n",
    "\n",
    "## Find any one student enrollments where the student is missing from the daily engagement table.\n",
    "## Output that enrollment.\n",
    "for enroller in enrollments:\n",
    "    if enroller[\"account_key\"] not in set_daily_eng:\n",
    "        print(enroller)\n",
    "\n",
    "# for all of them the cancel-date = join-date"
   ]
  },
  {
   "cell_type": "markdown",
   "metadata": {},
   "source": [
    "## Checking for More Problem Records"
   ]
  },
  {
   "cell_type": "code",
   "execution_count": 11,
   "metadata": {},
   "outputs": [
    {
     "name": "stdout",
     "output_type": "stream",
     "text": [
      "{'account_key': '1304',\n",
      " 'cancel_date': datetime.datetime(2015, 3, 10, 0, 0),\n",
      " 'days_to_cancel': 59,\n",
      " 'is_canceled': True,\n",
      " 'is_udacity': True,\n",
      " 'join_date': datetime.datetime(2015, 1, 10, 0, 0),\n",
      " 'status': 'canceled'}\n",
      "None\n",
      "{'account_key': '1304',\n",
      " 'cancel_date': datetime.datetime(2015, 6, 17, 0, 0),\n",
      " 'days_to_cancel': 99,\n",
      " 'is_canceled': True,\n",
      " 'is_udacity': True,\n",
      " 'join_date': datetime.datetime(2015, 3, 10, 0, 0),\n",
      " 'status': 'canceled'}\n",
      "None\n",
      "{'account_key': '1101',\n",
      " 'cancel_date': None,\n",
      " 'days_to_cancel': None,\n",
      " 'is_canceled': False,\n",
      " 'is_udacity': True,\n",
      " 'join_date': datetime.datetime(2015, 2, 25, 0, 0),\n",
      " 'status': 'current'}\n",
      "None\n",
      "3\n"
     ]
    }
   ],
   "source": [
    "#####################################\n",
    "#                 5                 #\n",
    "#####################################\n",
    "\n",
    "# pretty print function\n",
    "import pprint\n",
    "\n",
    "#import json\n",
    "# will not work for special object types (like date)\n",
    "# is not serializable\n",
    "\n",
    "## Find the number of surprising data points (enrollments missing from\n",
    "## the engagement table) that remain, if any.\n",
    "\n",
    "#  where join date is not equal to cancel date\n",
    "cnt = 0\n",
    "for enroller in enrollments:\n",
    "    if enroller[\"account_key\"] not in set_daily_eng:\n",
    "        if enroller['cancel_date'] != enroller['join_date']:\n",
    "            print(pprint.pprint(enroller))\n",
    "            #print(enroller)\n",
    "            cnt += 1\n",
    "print(cnt)"
   ]
  },
  {
   "cell_type": "markdown",
   "metadata": {},
   "source": [
    "## Tracking Down the Remaining Problems"
   ]
  },
  {
   "cell_type": "code",
   "execution_count": 12,
   "metadata": {},
   "outputs": [
    {
     "data": {
      "text/plain": [
       "6"
      ]
     },
     "execution_count": 12,
     "metadata": {},
     "output_type": "execute_result"
    }
   ],
   "source": [
    "# Create a set of the account keys for all Udacity test accounts\n",
    "udacity_test_accounts = set()\n",
    "for enrollment in enrollments:\n",
    "    if enrollment['is_udacity']:\n",
    "        udacity_test_accounts.add(enrollment['account_key'])\n",
    "len(udacity_test_accounts)"
   ]
  },
  {
   "cell_type": "code",
   "execution_count": 13,
   "metadata": {
    "collapsed": true
   },
   "outputs": [],
   "source": [
    "# Given some data with an account_key field, removes any records corresponding to Udacity test accounts\n",
    "def remove_udacity_accounts(data):\n",
    "    non_udacity_data = []\n",
    "    for data_point in data:\n",
    "        if data_point['account_key'] not in udacity_test_accounts:\n",
    "            non_udacity_data.append(data_point)\n",
    "    return non_udacity_data"
   ]
  },
  {
   "cell_type": "code",
   "execution_count": 14,
   "metadata": {},
   "outputs": [
    {
     "name": "stdout",
     "output_type": "stream",
     "text": [
      "1622\n",
      "135656\n",
      "3634\n"
     ]
    }
   ],
   "source": [
    "# Remove Udacity test accounts from all three tables\n",
    "non_udacity_enrollments = remove_udacity_accounts(enrollments)\n",
    "non_udacity_engagement = remove_udacity_accounts(daily_engagement)\n",
    "non_udacity_submissions = remove_udacity_accounts(project_submissions)\n",
    "\n",
    "print (len(non_udacity_enrollments))\n",
    "print (len(non_udacity_engagement))\n",
    "print (len(non_udacity_submissions))"
   ]
  },
  {
   "cell_type": "markdown",
   "metadata": {},
   "source": [
    "## Refining the Question"
   ]
  },
  {
   "cell_type": "code",
   "execution_count": 15,
   "metadata": {},
   "outputs": [
    {
     "data": {
      "text/plain": [
       "1622"
      ]
     },
     "execution_count": 15,
     "metadata": {},
     "output_type": "execute_result"
    }
   ],
   "source": [
    "len(non_udacity_enrollments)"
   ]
  },
  {
   "cell_type": "code",
   "execution_count": 16,
   "metadata": {},
   "outputs": [
    {
     "data": {
      "text/plain": [
       "995"
      ]
     },
     "execution_count": 16,
     "metadata": {},
     "output_type": "execute_result"
    }
   ],
   "source": [
    "#####################################\n",
    "#                 6                 #\n",
    "#####################################\n",
    "\n",
    "## Create a dictionary named paid_students containing all students who either\n",
    "## haven't canceled yet or who remained enrolled for more than 7 days. The keys\n",
    "## should be account keys, and the values should be the date the student enrolled.\n",
    "\n",
    "paid_students = {}\n",
    "for enroller in non_udacity_enrollments:\n",
    "   if not enroller['is_canceled'] or enroller['days_to_cancel'] > 7:\n",
    "        account_key = enroller['account_key']\n",
    "        enrollment_date = enroller['join_date']\n",
    "        # if more recent then store in dict\n",
    "        if (account_key not in paid_students or \n",
    "            enrollment_date > paid_students[account_key]):\n",
    "            paid_students[account_key] = enrollment_date\n",
    "len(paid_students)        \n",
    "# paid_students"
   ]
  },
  {
   "cell_type": "markdown",
   "metadata": {},
   "source": [
    "## Getting Data from First Week"
   ]
  },
  {
   "cell_type": "code",
   "execution_count": 21,
   "metadata": {},
   "outputs": [
    {
     "name": "stdout",
     "output_type": "stream",
     "text": [
      "1293\n",
      "134549\n",
      "3618\n"
     ]
    }
   ],
   "source": [
    "# Takes a student's join date and the date of a specific engagement record,\n",
    "# and returns True if that engagement record happened within one week\n",
    "# of the student joining.\n",
    "def within_one_week(join_date, engagement_date):\n",
    "    time_delta = engagement_date - join_date\n",
    "    return time_delta.days >= 0 and time_delta.days < 7\n",
    "\n",
    "def remove_free_trial_cancels(data):\n",
    "    new_data = []\n",
    "    for data_point in data:\n",
    "        if data_point['account_key'] in paid_students:\n",
    "            new_data.append(data_point)\n",
    "    return new_data\n",
    "\n",
    "paid_enrollments = remove_free_trial_cancels(non_udacity_enrollments)\n",
    "paid_engagement = remove_free_trial_cancels(non_udacity_engagement)\n",
    "paid_submissions = remove_free_trial_cancels(non_udacity_submissions)\n",
    "\n",
    "print(len(paid_enrollments))\n",
    "print(len(paid_engagement))\n",
    "print(len(paid_submissions))"
   ]
  },
  {
   "cell_type": "code",
   "execution_count": 22,
   "metadata": {},
   "outputs": [
    {
     "data": {
      "text/plain": [
       "6919"
      ]
     },
     "execution_count": 22,
     "metadata": {},
     "output_type": "execute_result"
    }
   ],
   "source": [
    "#####################################\n",
    "#                 7                 #\n",
    "#####################################\n",
    "\n",
    "## Create a list of rows from the engagement table including only rows where\n",
    "## the student is one of the paid students you just found, and the date is within\n",
    "## one week of the student's join date.\n",
    "\n",
    "paid_engagement_in_first_week = []\n",
    "\n",
    "for engagement_record in paid_engagement:\n",
    "    account_key = engagement_record['account_key']\n",
    "    join_date = paid_students[account_key]\n",
    "    engagement_record_date = engagement_record['utc_date']\n",
    "\n",
    "    if within_one_week(join_date, engagement_record_date):\n",
    "         paid_engagement_in_first_week.append(engagement_record)\n",
    "\n",
    "len(paid_engagement_in_first_week)"
   ]
  },
  {
   "cell_type": "markdown",
   "metadata": {},
   "source": [
    "## Exploring Student Engagement"
   ]
  },
  {
   "cell_type": "code",
   "execution_count": 24,
   "metadata": {
    "collapsed": true
   },
   "outputs": [],
   "source": [
    "from collections import defaultdict\n",
    "\n",
    "# Create a dictionary of engagement grouped by student.\n",
    "# The keys are account keys, and the values are lists of engagement records.\n",
    "\n",
    "# allows to define default values, which is a list here\n",
    "engagement_by_account = defaultdict(list)\n",
    "for engagement_record in paid_engagement_in_first_week:\n",
    "    account_key = engagement_record['account_key']\n",
    "    engagement_by_account[account_key].append(engagement_record)"
   ]
  },
  {
   "cell_type": "code",
   "execution_count": 26,
   "metadata": {
    "collapsed": true
   },
   "outputs": [],
   "source": [
    "# Create a dictionary with the total minutes each student spent in the classroom during the first week.\n",
    "# The keys are account keys, and the values are numbers (total minutes)\n",
    "total_minutes_by_account = {}\n",
    "for account_key, engagement_for_student in engagement_by_account.items():\n",
    "    total_minutes = 0\n",
    "    for engagement_record in engagement_for_student:\n",
    "        total_minutes += engagement_record['total_minutes_visited']\n",
    "    total_minutes_by_account[account_key] = total_minutes"
   ]
  },
  {
   "cell_type": "code",
   "execution_count": 44,
   "metadata": {},
   "outputs": [
    {
     "name": "stdout",
     "output_type": "stream",
     "text": [
      "Mean: 306.708326753\n",
      "Standard deviation: 412.996933409\n",
      "Minimum: 0.0\n",
      "Maximum: 3564.7332645\n"
     ]
    }
   ],
   "source": [
    "import numpy as np\n",
    "\n",
    "# Summarize the data about minutes spent in the classroom\n",
    "# In python3, dict.values returns a dict_values object, which is not a list or tuple\n",
    "total_minutes = list(total_minutes_by_account.values())\n",
    "type (total_minutes)\n",
    "\n",
    "print('Mean:', np.mean(total_minutes))\n",
    "print('Standard deviation:', np.std(total_minutes))\n",
    "print('Minimum:', np.min(total_minutes))\n",
    "print('Maximum:', np.max(total_minutes))"
   ]
  },
  {
   "cell_type": "markdown",
   "metadata": {},
   "source": [
    "## Debugging Data Analysis Code"
   ]
  },
  {
   "cell_type": "code",
   "execution_count": 52,
   "metadata": {},
   "outputs": [
    {
     "name": "stdout",
     "output_type": "stream",
     "text": [
      "3564.7332644989997\n",
      "163\n",
      "{'lessons_completed': 4, 'num_courses_visited': 4, 'total_minutes_visited': 850.519339666, 'account_key': '163', 'projects_completed': 0, 'utc_date': datetime.datetime(2015, 7, 9, 0, 0)}\n",
      "{'lessons_completed': 6, 'num_courses_visited': 6, 'total_minutes_visited': 872.633923334, 'account_key': '163', 'projects_completed': 0, 'utc_date': datetime.datetime(2015, 7, 10, 0, 0)}\n",
      "{'lessons_completed': 6, 'num_courses_visited': 2, 'total_minutes_visited': 777.018903666, 'account_key': '163', 'projects_completed': 0, 'utc_date': datetime.datetime(2015, 7, 11, 0, 0)}\n",
      "{'lessons_completed': 2, 'num_courses_visited': 1, 'total_minutes_visited': 294.568774, 'account_key': '163', 'projects_completed': 0, 'utc_date': datetime.datetime(2015, 7, 12, 0, 0)}\n",
      "{'lessons_completed': 1, 'num_courses_visited': 3, 'total_minutes_visited': 471.2139785, 'account_key': '163', 'projects_completed': 0, 'utc_date': datetime.datetime(2015, 7, 13, 0, 0)}\n",
      "{'lessons_completed': 1, 'num_courses_visited': 2, 'total_minutes_visited': 298.778345333, 'account_key': '163', 'projects_completed': 0, 'utc_date': datetime.datetime(2015, 7, 14, 0, 0)}\n",
      "{'lessons_completed': 0, 'num_courses_visited': 0, 'total_minutes_visited': 0.0, 'account_key': '163', 'projects_completed': 0, 'utc_date': datetime.datetime(2015, 7, 15, 0, 0)}\n"
     ]
    }
   ],
   "source": [
    "#####################################\n",
    "#                 8                 #\n",
    "#####################################\n",
    "\n",
    "## Go through a similar process as before to see if there is a problem.\n",
    "## Locate at least one surprising piece of data, output it, and take a look at it.\n",
    "student_with_max_minutes = None\n",
    "max_minutes = 0\n",
    "\n",
    "for student, total_minutes in total_minutes_by_account.items():\n",
    "    if total_minutes > max_minutes:\n",
    "        max_minutes = total_minutes\n",
    "        student_with_max_minutes = student\n",
    "\n",
    "print(max_minutes)\n",
    "print(student_with_max_minutes)\n",
    "\n",
    "for engagement_record in paid_engagement_in_first_week:\n",
    "    if engagement_record['account_key'] == student_with_max_minutes:\n",
    "        print(engagement_record)\n",
    "        "
   ]
  },
  {
   "cell_type": "code",
   "execution_count": 55,
   "metadata": {},
   "outputs": [
    {
     "data": {
      "text/plain": [
       "('163', 3564.7332644989997)"
      ]
     },
     "execution_count": 55,
     "metadata": {},
     "output_type": "execute_result"
    }
   ],
   "source": [
    "# total_minutes_by_account.items()\n",
    "# find the account key with the maximum minutes using this shorthand notation\n",
    "max(total_minutes_by_account.items(), key=lambda pair: pair[1])"
   ]
  },
  {
   "cell_type": "markdown",
   "metadata": {},
   "source": [
    "## Lessons Completed in First Week"
   ]
  },
  {
   "cell_type": "code",
   "execution_count": 63,
   "metadata": {},
   "outputs": [
    {
     "name": "stdout",
     "output_type": "stream",
     "text": [
      "Mean: 306.708326753\n",
      "Standard deviation: 412.996933409\n",
      "Minimum: 0.0\n",
      "Maximum: 3564.7332645\n",
      "Mean: 1.63618090452\n",
      "Standard deviation: 3.00256129983\n",
      "Minimum: 0\n",
      "Maximum: 36\n"
     ]
    }
   ],
   "source": [
    "#####################################\n",
    "#                 9                 #\n",
    "#####################################\n",
    "\n",
    "## Adapt the code above to find the mean, standard deviation, minimum, and maximum for\n",
    "## the number of lessons completed by each student during the first week. Try creating\n",
    "## one or more functions to re-use the code above.\n",
    "from collections import defaultdict\n",
    "\n",
    "def group_data(data, key_name):\n",
    "    grouped_data = defaultdict(list)\n",
    "    for data_point in data:\n",
    "        key = data_point[key_name]\n",
    "        grouped_data[key].append(data_point)\n",
    "    return grouped_data\n",
    "\n",
    "engagement_by_account = group_data(paid_engagement_in_first_week,'account_key')\n",
    "\n",
    "\n",
    "def sum_grouped_items(grouped_data, field_name):\n",
    "    summed_data = {}\n",
    "    for key, data_points in grouped_data.items():\n",
    "        total = 0\n",
    "        for data_point in data_points:\n",
    "            total += data_point[field_name]\n",
    "        summed_data[key] = total\n",
    "    return summed_data\n",
    "\n",
    "total_minutes_by_account = sum_grouped_items(engagement_by_account,'total_minutes_visited')\n",
    "\n",
    "\n",
    "import numpy as np\n",
    "\n",
    "def describe_data(data):\n",
    "    print('Mean:', np.mean(data))\n",
    "    print('Standard deviation:', np.std(data))\n",
    "    print('Minimum:', np.min(data))\n",
    "    print('Maximum:', np.max(data))\n",
    "\n",
    "describe_data(list(total_minutes_by_account.values()))\n",
    "\n",
    "\n",
    "lessons_completed_by_account = sum_grouped_items(engagement_by_account,'lessons_completed')\n",
    "describe_data(list(lessons_completed_by_account.values()))\n"
   ]
  },
  {
   "cell_type": "markdown",
   "metadata": {},
   "source": [
    "## Number of Visits in First Week"
   ]
  },
  {
   "cell_type": "code",
   "execution_count": 66,
   "metadata": {},
   "outputs": [
    {
     "name": "stdout",
     "output_type": "stream",
     "text": [
      "Mean: 2.86733668342\n",
      "Standard deviation: 2.25519800292\n",
      "Minimum: 0\n",
      "Maximum: 7\n"
     ]
    }
   ],
   "source": [
    "######################################\n",
    "#                 10                 #\n",
    "######################################\n",
    "\n",
    "## Find the mean, standard deviation, minimum, and maximum for the number of\n",
    "## days each student visits the classroom during the first week.\n",
    "\n",
    "for engagement_record in paid_engagement:\n",
    "    if engagement_record['num_courses_visited'] > 0:\n",
    "        engagement_record['has_visited'] = 1\n",
    "    else:\n",
    "        engagement_record['has_visited'] = 0\n",
    "\n",
    "days_visited_by_account = sum_grouped_items(engagement_by_account, 'has_visited')\n",
    "describe_data(list(days_visited_by_account.values()))"
   ]
  },
  {
   "cell_type": "markdown",
   "metadata": {},
   "source": [
    "## Splitting out Passing Students"
   ]
  },
  {
   "cell_type": "code",
   "execution_count": 68,
   "metadata": {},
   "outputs": [
    {
     "name": "stdout",
     "output_type": "stream",
     "text": [
      "4527\n",
      "2392\n"
     ]
    }
   ],
   "source": [
    "######################################\n",
    "#                 11                 #\n",
    "######################################\n",
    "\n",
    "## Create two lists of engagement data for paid students in the first week.\n",
    "## The first list should contain data for students who eventually pass the\n",
    "## subway project, and the second list should contain data for students\n",
    "## who do not.\n",
    "\n",
    "subway_project_lesson_keys = ['746169184', '3176718735']\n",
    "\n",
    "pass_subway_project = set()\n",
    "\n",
    "for submission in paid_submissions:\n",
    "    project = submission['lesson_key']\n",
    "    rating = submission['assigned_rating']    \n",
    "\n",
    "    if ((project in subway_project_lesson_keys) and\n",
    "            (rating == 'PASSED' or rating == 'DISTINCTION')):\n",
    "        pass_subway_project.add(submission['account_key'])\n",
    "\n",
    "len(pass_subway_project)\n",
    "\n",
    "passing_engagement = []\n",
    "non_passing_engagement = []\n",
    "\n",
    "for engagement_record in paid_engagement_in_first_week:\n",
    "    if engagement_record['account_key'] in pass_subway_project:\n",
    "        passing_engagement.append(engagement_record)\n",
    "    else:\n",
    "        non_passing_engagement.append(engagement_record)\n",
    "\n",
    "print(len(passing_engagement))\n",
    "print(len(non_passing_engagement))"
   ]
  },
  {
   "cell_type": "markdown",
   "metadata": {},
   "source": [
    "## Comparing the Two Student Groups"
   ]
  },
  {
   "cell_type": "code",
   "execution_count": 70,
   "metadata": {},
   "outputs": [
    {
     "name": "stdout",
     "output_type": "stream",
     "text": [
      "non-passing students:\n",
      "Mean: 143.326474267\n",
      "Standard deviation: 269.538619011\n",
      "Minimum: 0.0\n",
      "Maximum: 1768.52274933\n",
      "passing students:\n",
      "Mean: 394.586046484\n",
      "Standard deviation: 448.499519327\n",
      "Minimum: 0.0\n",
      "Maximum: 3564.7332645\n",
      "non-passing students:\n",
      "Mean: 0.862068965517\n",
      "Standard deviation: 2.54915994183\n",
      "Minimum: 0\n",
      "Maximum: 27\n",
      "passing students:\n",
      "Mean: 2.05255023184\n",
      "Standard deviation: 3.14222705558\n",
      "Minimum: 0\n",
      "Maximum: 36\n",
      "non-passing students:\n",
      "Mean: 1.90517241379\n",
      "Standard deviation: 1.90573144136\n",
      "Minimum: 0\n",
      "Maximum: 7\n",
      "passing students:\n",
      "Mean: 3.38485316847\n",
      "Standard deviation: 2.25882147092\n",
      "Minimum: 0\n",
      "Maximum: 7\n"
     ]
    }
   ],
   "source": [
    "######################################\n",
    "#                 12                 #\n",
    "######################################\n",
    "\n",
    "## Compute some metrics you're interested in and see how they differ for\n",
    "## students who pass the subway project vs. students who don't. A good\n",
    "## starting point would be the metrics we looked at earlier (minutes spent\n",
    "## in the classroom, lessons completed, and days visited).\n",
    "passing_engagement_by_account = group_data(passing_engagement,'account_key')\n",
    "non_passing_engagement_by_account = group_data(non_passing_engagement,'account_key')\n",
    "\n",
    "print('non-passing students:')\n",
    "non_passing_minutes = sum_grouped_items(non_passing_engagement_by_account\n",
    "                                        ,'total_minutes_visited')\n",
    "describe_data(list(non_passing_minutes.values()))\n",
    "\n",
    "print('passing students:')\n",
    "passing_minutes = sum_grouped_items(passing_engagement_by_account\n",
    "                                    ,'total_minutes_visited')\n",
    "describe_data(list(passing_minutes.values()))\n",
    "\n",
    "print('non-passing students:')\n",
    "non_passing_lessons = sum_grouped_items(non_passing_engagement_by_account\n",
    "                                        ,'lessons_completed')\n",
    "describe_data(list(non_passing_lessons.values()))\n",
    "\n",
    "print('passing students:')\n",
    "passing_lessons = sum_grouped_items(passing_engagement_by_account,'lessons_completed')\n",
    "describe_data(list(passing_lessons.values()))\n",
    "\n",
    "print('non-passing students:')\n",
    "non_passing_visits = sum_grouped_items(non_passing_engagement_by_account, 'has_visited')\n",
    "describe_data(list(non_passing_visits.values()))\n",
    "\n",
    "print('passing students:')\n",
    "passing_visits = sum_grouped_items(passing_engagement_by_account,'has_visited')\n",
    "describe_data(list(passing_visits.values()))"
   ]
  },
  {
   "cell_type": "markdown",
   "metadata": {},
   "source": [
    "## Making Histograms"
   ]
  },
  {
   "cell_type": "code",
   "execution_count": 82,
   "metadata": {},
   "outputs": [
    {
     "name": "stdout",
     "output_type": "stream",
     "text": [
      "Populating the interactive namespace from numpy and matplotlib\n"
     ]
    }
   ],
   "source": [
    "######################################\n",
    "#                 13                 #\n",
    "######################################\n",
    "\n",
    "## Make histograms of the three metrics we looked at earlier for both\n",
    "## students who passed the subway project and students who didn't. You\n",
    "## might also want to make histograms of any other metrics you examined.\n",
    "%pylab inline\n",
    "\n",
    "import matplotlib.pyplot as plt\n",
    "import numpy as np\n",
    "\n",
    "# Summarize the given data\n",
    "def describe_data(data):\n",
    "    print('Mean:', np.mean(data))\n",
    "    print('Standard deviation:', np.std(data))\n",
    "    print('Minimum:', np.min(data))\n",
    "    print('Maximum:', np.max(data))\n",
    "    plt.hist(data)"
   ]
  },
  {
   "cell_type": "code",
   "execution_count": 84,
   "metadata": {},
   "outputs": [
    {
     "name": "stdout",
     "output_type": "stream",
     "text": [
      "Mean: 2.05255023184\n",
      "Standard deviation: 3.14222705558\n",
      "Minimum: 0\n",
      "Maximum: 36\n"
     ]
    },
    {
     "data": {
      "image/png": "[encoded data removed]",
      "text/plain": [
       "<matplotlib.figure.Figure at 0xaad49f0>"
      ]
     },
     "metadata": {},
     "output_type": "display_data"
    }
   ],
   "source": [
    "describe_data(list(passing_lessons.values()))"
   ]
  },
  {
   "cell_type": "code",
   "execution_count": 85,
   "metadata": {},
   "outputs": [
    {
     "name": "stdout",
     "output_type": "stream",
     "text": [
      "Mean: 143.326474267\n",
      "Standard deviation: 269.538619011\n",
      "Minimum: 0.0\n",
      "Maximum: 1768.52274933\n"
     ]
    },
    {
     "data": {
      "image/png": "[encoded data removed]",
      "text/plain": [
       "<matplotlib.figure.Figure at 0xa68ef30>"
      ]
     },
     "metadata": {},
     "output_type": "display_data"
    }
   ],
   "source": [
    "describe_data(list(non_passing_minutes.values()))"
   ]
  },
  {
   "cell_type": "markdown",
   "metadata": {},
   "source": [
    "## Improving Plots and Sharing Findings"
   ]
  },
  {
   "cell_type": "code",
   "execution_count": 80,
   "metadata": {},
   "outputs": [
    {
     "data": {
      "text/plain": [
       "<matplotlib.text.Text at 0xa6e0070>"
      ]
     },
     "execution_count": 80,
     "metadata": {},
     "output_type": "execute_result"
    },
    {
     "data": {
      "image/png": "[encoded data removed]",
      "text/plain": [
       "<matplotlib.figure.Figure at 0xa71f930>"
      ]
     },
     "metadata": {},
     "output_type": "display_data"
    }
   ],
   "source": [
    "######################################\n",
    "#                 14                 #\n",
    "######################################\n",
    "\n",
    "## Make a more polished version of at least one of your visualizations\n",
    "## from earlier. Try importing the seaborn library to make the visualization\n",
    "## look better, adding axis labels and a title, and changing one or more\n",
    "## arguments to the hist() function.\n",
    "import seaborn as sns\n",
    "\n",
    "plt.hist(list(non_passing_visits.values()), bins=8)\n",
    "plt.xlabel('Number of days')\n",
    "plt.title('Distribution of classroom visits in the first week ' + \n",
    "          'for students who do not pass the subway project')\n",
    "\n",
    "#plt.hist(list(passing_visits.values()), bins=8)\n",
    "#plt.xlabel('Number of days')\n",
    "#plt.title('Distribution of classroom visits in the first week ' + \n",
    "#          'for students who pass the subway project')"
   ]
  },
  {
   "cell_type": "code",
   "execution_count": null,
   "metadata": {
    "collapsed": true
   },
   "outputs": [],
   "source": []
  }
 ],
 "metadata": {
  "kernelspec": {
   "display_name": "Python 3",
   "language": "python",
   "name": "python3"
  },
  "language_info": {
   "codemirror_mode": {
    "name": "ipython",
    "version": 3
   },
   "file_extension": ".py",
   "mimetype": "text/x-python",
   "name": "python",
   "nbconvert_exporter": "python",
   "pygments_lexer": "ipython3",
   "version": "3.5.3"
  }
 },
 "nbformat": 4,
 "nbformat_minor": 1
}
