{
 "cells": [
  {
   "cell_type": "code",
   "execution_count": 1,
   "metadata": {
    "collapsed": true
   },
   "outputs": [],
   "source": [
    "import pyspark\n",
    "\n",
    "from pyspark.sql import SparkSession\n",
    "from pyspark.sql.types import *\n",
    "\n",
    "import initspark"
   ]
  },
  {
   "cell_type": "code",
   "execution_count": 2,
   "metadata": {
    "collapsed": true
   },
   "outputs": [],
   "source": [
    "spark = SparkSession.builder.appName(\"Glacier\").getOrCreate()\n",
    "csv = spark.read\\\n",
    "    .option(\"header\", \"true\")\\\n",
    "    .csv(\"./data/glacier/database.csv\")\\\n",
    "    .cache()"
   ]
  },
  {
   "cell_type": "code",
   "execution_count": 18,
   "metadata": {
    "collapsed": false
   },
   "outputs": [
    {
     "name": "stdout",
     "output_type": "stream",
     "text": [
      "root\n",
      " |-- Glacier ID: string (nullable = true)\n",
      " |-- Political Unit: string (nullable = true)\n",
      " |-- Continent: string (nullable = true)\n",
      " |-- Basin Code: string (nullable = true)\n",
      " |-- Location Code: string (nullable = true)\n",
      " |-- Glacier Code: string (nullable = true)\n",
      " |-- Glacier Name: string (nullable = true)\n",
      " |-- Latitude: string (nullable = true)\n",
      " |-- Longitude: string (nullable = true)\n",
      " |-- Primary Class: string (nullable = true)\n",
      " |-- Glacier Source: string (nullable = true)\n",
      " |-- Basin Count: string (nullable = true)\n",
      " |-- Glacier Form: string (nullable = true)\n",
      " |-- Glacier Activity: string (nullable = true)\n",
      " |-- Activity Start: string (nullable = true)\n",
      " |-- Activity End: string (nullable = true)\n",
      " |-- Minimum Elevation: string (nullable = true)\n",
      " |-- Minimum Elevation Exposed: string (nullable = true)\n",
      " |-- Mean Elevation: string (nullable = true)\n",
      " |-- Mean Elevation Accumulation: string (nullable = true)\n",
      " |-- Mean Elevation Ablation: string (nullable = true)\n",
      " |-- Maximum Elevation: string (nullable = true)\n",
      " |-- Snow Line Elevation: string (nullable = true)\n",
      " |-- Snow Line Accuracy: string (nullable = true)\n",
      " |-- Glacier Area: string (nullable = true)\n",
      " |-- Area Accuracy: string (nullable = true)\n",
      " |-- Area Exposed: string (nullable = true)\n",
      " |-- Mean Width: string (nullable = true)\n",
      " |-- Mean Length: string (nullable = true)\n",
      " |-- Maximum Length: string (nullable = true)\n",
      " |-- Maximum Length Exposed: string (nullable = true)\n",
      " |-- Maximum Length Ablation: string (nullable = true)\n",
      " |-- Mean Depth: string (nullable = true)\n",
      " |-- Depth Accuracy: string (nullable = true)\n",
      " |-- Accumulation Orientation: string (nullable = true)\n",
      " |-- Ablation Orientation: string (nullable = true)\n",
      " |-- Topographic Map Year: string (nullable = true)\n",
      " |-- Topographic Map Scale: string (nullable = true)\n",
      " |-- Photograph Year: string (nullable = true)\n",
      "\n"
     ]
    }
   ],
   "source": [
    "csv.printSchema()"
   ]
  },
  {
   "cell_type": "code",
   "execution_count": 3,
   "metadata": {
    "collapsed": false
   },
   "outputs": [],
   "source": [
    "csvData = csv.select(\n",
    "    csv[\"Political Unit\"], \n",
    "    csv[\"Latitude\"], \n",
    "    csv[\"Longitude\"], \n",
    "    csv[\"Glacier Source\"],\n",
    "    csv[\"Minimum Elevation\"],\n",
    "    csv[\"Mean Elevation\"]\n",
    ")"
   ]
  },
  {
   "cell_type": "code",
   "execution_count": 4,
   "metadata": {
    "collapsed": false
   },
   "outputs": [
    {
     "name": "stdout",
     "output_type": "stream",
     "text": [
      "root\n",
      " |-- Political Unit: string (nullable = true)\n",
      " |-- Latitude: string (nullable = true)\n",
      " |-- Longitude: string (nullable = true)\n",
      " |-- Glacier Source: string (nullable = true)\n",
      " |-- Minimum Elevation: string (nullable = true)\n",
      " |-- Mean Elevation: string (nullable = true)\n",
      "\n"
     ]
    }
   ],
   "source": [
    "csvData.printSchema()"
   ]
  },
  {
   "cell_type": "code",
   "execution_count": 10,
   "metadata": {
    "collapsed": false
   },
   "outputs": [],
   "source": [
    "data = csvData\\\n",
    "    .withColumnRenamed(\"Political Unit\", \"country\")\\\n",
    "    .withColumn(\"latitude\", csvData[\"Latitude\"].cast(DoubleType()))\\\n",
    "    .withColumn(\"longitude\", csvData[\"Longitude\"].cast(DoubleType()))\\\n",
    "    .withColumnRenamed(\"Glacier Source\", \"source\")\\\n",
    "    .withColumn(\"minElevation\", csv[\"Minimum Elevation\"].cast(DoubleType()))\\\n",
    "    .withColumn(\"meanElevation\", csv[\"Mean Elevation\"].cast(DoubleType()))\\\n",
    "    .drop(csv[\"Minimum Elevation\"])\\\n",
    "    .drop(csv[\"Mean Elevation\"])"
   ]
  },
  {
   "cell_type": "code",
   "execution_count": 19,
   "metadata": {
    "collapsed": false
   },
   "outputs": [
    {
     "name": "stdout",
     "output_type": "stream",
     "text": [
      "+-----------+--------+---------+------+------------+-------------+\n",
      "|    country|latitude|longitude|source|minElevation|meanElevation|\n",
      "+-----------+--------+---------+------+------------+-------------+\n",
      "|AFGHANISTAN|  34.672|   68.874|     0|      3975.0|       4110.0|\n",
      "|AFGHANISTAN|  34.676|   68.855|     0|      4250.0|       4350.0|\n",
      "|AFGHANISTAN|  34.689|   68.854|     0|      4000.0|       4100.0|\n",
      "|AFGHANISTAN|  34.707|   68.857|     0|      4000.0|       4175.0|\n",
      "|AFGHANISTAN|  34.719|   68.852|     0|      3750.0|       4050.0|\n",
      "|AFGHANISTAN|  34.806|   68.868|     0|      3550.0|       3900.0|\n",
      "|AFGHANISTAN|  34.818|   68.872|     0|      3700.0|       3925.0|\n",
      "|AFGHANISTAN|  34.802|   68.886|     0|      3850.0|       4225.0|\n",
      "|AFGHANISTAN|  34.807|   68.891|     0|      3800.0|       3925.0|\n",
      "|AFGHANISTAN|  35.175|   68.757|     0|      3825.0|       4040.0|\n",
      "|AFGHANISTAN|  35.204|   68.783|     0|      4200.0|       4325.0|\n",
      "|AFGHANISTAN|  35.218|   68.805|     0|      3900.0|       4125.0|\n",
      "|AFGHANISTAN|  35.207|   68.817|     0|      3800.0|       3975.0|\n",
      "|AFGHANISTAN|  35.202|   68.808|     0|      3875.0|       4090.0|\n",
      "|AFGHANISTAN|  35.193|   68.841|     0|      3850.0|       4000.0|\n",
      "|AFGHANISTAN|  35.243|   68.841|     0|      3950.0|       4150.0|\n",
      "|AFGHANISTAN|  35.241|   68.859|     0|      3825.0|       4000.0|\n",
      "|AFGHANISTAN|  35.268|   68.924|     0|      3675.0|       3940.0|\n",
      "|AFGHANISTAN|   35.24|    68.99|     0|      4025.0|       4140.0|\n",
      "|AFGHANISTAN|  35.388|   69.258|     0|      4475.0|       4610.0|\n",
      "+-----------+--------+---------+------+------------+-------------+\n",
      "only showing top 20 rows\n",
      "\n"
     ]
    }
   ],
   "source": [
    "data.show()"
   ]
  },
  {
   "cell_type": "code",
   "execution_count": 29,
   "metadata": {
    "collapsed": false
   },
   "outputs": [
    {
     "name": "stdout",
     "output_type": "stream",
     "text": [
      "+-------+------------------+------------------+------------------+-----------------+\n",
      "|summary|          latitude|         longitude|      minElevation|    meanElevation|\n",
      "+-------+------------------+------------------+------------------+-----------------+\n",
      "|  count|            132890|            132890|            117162|            81599|\n",
      "|   mean| 36.32210127022388|31.902295625705534| 3502.362062784862|4490.197281829434|\n",
      "| stddev|27.821062012108655| 83.86064331896505|1735.3178418669727|1347.229569562204|\n",
      "|    min|          -71.6572|          -179.918|               0.0|              0.0|\n",
      "|    max|              89.3|            179.68|            8047.0|           8340.0|\n",
      "+-------+------------------+------------------+------------------+-----------------+\n",
      "\n"
     ]
    }
   ],
   "source": [
    "data.describe([\"latitude\", \"longitude\", \"minElevation\", \"meanElevation\"]).show()"
   ]
  },
  {
   "cell_type": "code",
   "execution_count": 40,
   "metadata": {
    "collapsed": false
   },
   "outputs": [
    {
     "name": "stdout",
     "output_type": "stream",
     "text": [
      "+--------------------+--------------------+\n",
      "|             country|stddev(minElevation)|\n",
      "+--------------------+--------------------+\n",
      "|        SOUTH AFRICA|                 NaN|\n",
      "|              UGANDA|   109.8211655638252|\n",
      "|            TANZANIA|  311.22233316287037|\n",
      "|FRENCH SOUTHERN T...|  217.49752453781315|\n",
      "|              BHUTAN|   305.9927185333915|\n",
      "|              CANADA|   543.5890055095941|\n",
      "|            COLOMBIA|  153.90779727776342|\n",
      "|              MEXICO|  130.26121521666886|\n",
      "|            PAKISTAN|  239.42756344257916|\n",
      "|              FRANCE|  261.17239583609324|\n",
      "|       SOUTH GEORGIA|   86.91199331093948|\n",
      "|               CHINA|   761.8493260800309|\n",
      "|             AUSTRIA|  201.35649450652937|\n",
      "|               NEPAL|    507.969148524235|\n",
      "|         SWITZERLAND|   313.0840718225019|\n",
      "|           ARGENTINA|   648.0816129005656|\n",
      "|           GREENLAND|   338.2707623188701|\n",
      "|              NORWAY|   563.6999600825588|\n",
      "|             ECUADOR|   162.7865038252052|\n",
      "|              SWEDEN|  146.90839060461985|\n",
      "+--------------------+--------------------+\n",
      "only showing top 20 rows\n",
      "\n"
     ]
    }
   ],
   "source": [
    "data.groupBy(\"country\").agg({\"minElevation\": \"stddev\"}).show()"
   ]
  },
  {
   "cell_type": "code",
   "execution_count": null,
   "metadata": {
    "collapsed": false
   },
   "outputs": [],
   "source": []
  },
  {
   "cell_type": "code",
   "execution_count": null,
   "metadata": {
    "collapsed": false
   },
   "outputs": [],
   "source": []
  },
  {
   "cell_type": "code",
   "execution_count": null,
   "metadata": {
    "collapsed": true
   },
   "outputs": [],
   "source": []
  }
 ],
 "metadata": {
  "kernelspec": {
   "display_name": "Python 3",
   "language": "python",
   "name": "python3"
  },
  "language_info": {
   "codemirror_mode": {
    "name": "ipython",
    "version": 3
   },
   "file_extension": ".py",
   "mimetype": "text/x-python",
   "name": "python",
   "nbconvert_exporter": "python",
   "pygments_lexer": "ipython3",
   "version": "3.6.0"
  }
 },
 "nbformat": 4,
 "nbformat_minor": 2
}
