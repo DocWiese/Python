{
 "cells": [
  {
   "cell_type": "code",
   "execution_count": 1,
   "metadata": {
    "collapsed": true
   },
   "outputs": [],
   "source": [
    "import pandas as pd"
   ]
  },
  {
   "cell_type": "code",
   "execution_count": 2,
   "metadata": {
    "collapsed": true
   },
   "outputs": [],
   "source": [
    "daily_engagement = pd.read_csv('daily_engagement_full.csv')"
   ]
  },
  {
   "cell_type": "code",
   "execution_count": 4,
   "metadata": {},
   "outputs": [
    {
     "data": {
      "text/plain": [
       "pandas.core.frame.DataFrame"
      ]
     },
     "execution_count": 4,
     "metadata": {},
     "output_type": "execute_result"
    }
   ],
   "source": [
    "# importing creates a pandas data frame\n",
    "type(daily_engagement)"
   ]
  },
  {
   "cell_type": "code",
   "execution_count": 6,
   "metadata": {},
   "outputs": [
    {
     "data": {
      "text/html": [
       "<div>\n",
       "<table border=\"1\" class=\"dataframe\">\n",
       "  <thead>\n",
       "    <tr style=\"text-align: right;\">\n",
       "      <th></th>\n",
       "      <th>utc_date</th>\n",
       "      <th>acct</th>\n",
       "      <th>registration_date</th>\n",
       "      <th>subscription_start</th>\n",
       "      <th>course_key</th>\n",
       "      <th>sibling_key</th>\n",
       "      <th>course_title</th>\n",
       "      <th>has_visited</th>\n",
       "      <th>total_minutes_visited</th>\n",
       "      <th>lessons_completed</th>\n",
       "      <th>projects_completed</th>\n",
       "      <th>account_key</th>\n",
       "    </tr>\n",
       "  </thead>\n",
       "  <tbody>\n",
       "    <tr>\n",
       "      <th>0</th>\n",
       "      <td>2014-11-05</td>\n",
       "      <td>448</td>\n",
       "      <td>2014-08-05</td>\n",
       "      <td>2014-11-05</td>\n",
       "      <td>ud359-nd</td>\n",
       "      <td>ud359</td>\n",
       "      <td>Intro to Data Science</td>\n",
       "      <td>0.0</td>\n",
       "      <td>0.0</td>\n",
       "      <td>0.0</td>\n",
       "      <td>0.0</td>\n",
       "      <td>2257038596</td>\n",
       "    </tr>\n",
       "    <tr>\n",
       "      <th>1</th>\n",
       "      <td>2014-11-05</td>\n",
       "      <td>448</td>\n",
       "      <td>2014-08-05</td>\n",
       "      <td>2014-11-05</td>\n",
       "      <td>ud120-nd</td>\n",
       "      <td>ud120</td>\n",
       "      <td>Intro to Machine Learning</td>\n",
       "      <td>0.0</td>\n",
       "      <td>0.0</td>\n",
       "      <td>0.0</td>\n",
       "      <td>0.0</td>\n",
       "      <td>2257038596</td>\n",
       "    </tr>\n",
       "    <tr>\n",
       "      <th>2</th>\n",
       "      <td>2014-11-05</td>\n",
       "      <td>448</td>\n",
       "      <td>2014-08-05</td>\n",
       "      <td>2014-11-05</td>\n",
       "      <td>ud651-nd</td>\n",
       "      <td>ud651</td>\n",
       "      <td>Data Analysis with R</td>\n",
       "      <td>0.0</td>\n",
       "      <td>0.0</td>\n",
       "      <td>0.0</td>\n",
       "      <td>0.0</td>\n",
       "      <td>2257038596</td>\n",
       "    </tr>\n",
       "    <tr>\n",
       "      <th>3</th>\n",
       "      <td>2014-11-05</td>\n",
       "      <td>448</td>\n",
       "      <td>2014-08-05</td>\n",
       "      <td>2014-11-05</td>\n",
       "      <td>ud507-nd</td>\n",
       "      <td>ud507</td>\n",
       "      <td>Data Visualization and D3.js</td>\n",
       "      <td>0.0</td>\n",
       "      <td>0.0</td>\n",
       "      <td>0.0</td>\n",
       "      <td>0.0</td>\n",
       "      <td>2257038596</td>\n",
       "    </tr>\n",
       "    <tr>\n",
       "      <th>4</th>\n",
       "      <td>2014-11-05</td>\n",
       "      <td>448</td>\n",
       "      <td>2014-08-05</td>\n",
       "      <td>2014-11-05</td>\n",
       "      <td>ud651</td>\n",
       "      <td>ud651</td>\n",
       "      <td>Data Analysis with R</td>\n",
       "      <td>0.0</td>\n",
       "      <td>0.0</td>\n",
       "      <td>0.0</td>\n",
       "      <td>0.0</td>\n",
       "      <td>2257038596</td>\n",
       "    </tr>\n",
       "  </tbody>\n",
       "</table>\n",
       "</div>"
      ],
      "text/plain": [
       "     utc_date  acct registration_date subscription_start course_key  \\\n",
       "0  2014-11-05   448        2014-08-05         2014-11-05   ud359-nd   \n",
       "1  2014-11-05   448        2014-08-05         2014-11-05   ud120-nd   \n",
       "2  2014-11-05   448        2014-08-05         2014-11-05   ud651-nd   \n",
       "3  2014-11-05   448        2014-08-05         2014-11-05   ud507-nd   \n",
       "4  2014-11-05   448        2014-08-05         2014-11-05      ud651   \n",
       "\n",
       "  sibling_key                  course_title  has_visited  \\\n",
       "0       ud359         Intro to Data Science          0.0   \n",
       "1       ud120     Intro to Machine Learning          0.0   \n",
       "2       ud651          Data Analysis with R          0.0   \n",
       "3       ud507  Data Visualization and D3.js          0.0   \n",
       "4       ud651          Data Analysis with R          0.0   \n",
       "\n",
       "   total_minutes_visited  lessons_completed  projects_completed account_key  \n",
       "0                    0.0                0.0                 0.0  2257038596  \n",
       "1                    0.0                0.0                 0.0  2257038596  \n",
       "2                    0.0                0.0                 0.0  2257038596  \n",
       "3                    0.0                0.0                 0.0  2257038596  \n",
       "4                    0.0                0.0                 0.0  2257038596  "
      ]
     },
     "execution_count": 6,
     "metadata": {},
     "output_type": "execute_result"
    }
   ],
   "source": [
    "daily_engagement.head(5)"
   ]
  },
  {
   "cell_type": "code",
   "execution_count": 8,
   "metadata": {},
   "outputs": [
    {
     "data": {
      "text/plain": [
       "array(['Intro to Data Science', 'Intro to Machine Learning',\n",
       "       'Data Analysis with R', 'Data Visualization and D3.js',\n",
       "       'JavaScript Basics', 'Data Wrangling with MongoDB',\n",
       "       'Intro to HTML and CSS', 'Data Analyst Nanodegree', 'A/B Testing',\n",
       "       'ud134-nd', 'ud134a-nd'], dtype=object)"
      ]
     },
     "execution_count": 8,
     "metadata": {},
     "output_type": "execute_result"
    }
   ],
   "source": [
    "# get all course titles\n",
    "daily_engagement['course_title'].unique()"
   ]
  },
  {
   "cell_type": "code",
   "execution_count": 9,
   "metadata": {},
   "outputs": [
    {
     "data": {
      "text/plain": [
       "1237"
      ]
     },
     "execution_count": 9,
     "metadata": {},
     "output_type": "execute_result"
    }
   ],
   "source": [
    "# obtaining the unique accounts\n",
    "len(daily_engagement['acct'].unique())"
   ]
  },
  {
   "cell_type": "markdown",
   "metadata": {},
   "source": [
    "# Basic Numpy"
   ]
  },
  {
   "cell_type": "code",
   "execution_count": 15,
   "metadata": {},
   "outputs": [
    {
     "name": "stdout",
     "output_type": "stream",
     "text": [
      "<U22\n",
      "float64\n",
      "int32\n",
      "float64\n",
      "bool\n",
      "<U2\n"
     ]
    }
   ],
   "source": [
    "# quiz code\n",
    "import numpy as np\n",
    "\n",
    "# First 20 countries with employment data\n",
    "countries = np.array([\n",
    "    'Afghanistan', 'Albania', 'Algeria', 'Angola', 'Argentina',\n",
    "    'Armenia', 'Australia', 'Austria', 'Azerbaijan', 'Bahamas',\n",
    "    'Bahrain', 'Bangladesh', 'Barbados', 'Belarus', 'Belgium',\n",
    "    'Belize', 'Benin', 'Bhutan', 'Bolivia',\n",
    "    'Bosnia and Herzegovina'\n",
    "])\n",
    "\n",
    "# Employment data in 2007 for those 20 countries\n",
    "employment = np.array([\n",
    "    55.70000076,  51.40000153,  50.5       ,  75.69999695,\n",
    "    58.40000153,  40.09999847,  61.5       ,  57.09999847,\n",
    "    60.90000153,  66.59999847,  60.40000153,  68.09999847,\n",
    "    66.90000153,  53.40000153,  48.59999847,  56.79999924,\n",
    "    71.59999847,  58.40000153,  70.40000153,  41.20000076\n",
    "])\n",
    "\n",
    "# Change False to True for each block of code to see what it does\n",
    "\n",
    "# Accessing elements\n",
    "if False:\n",
    "    print(countries[0])\n",
    "    print(countries[3])\n",
    "\n",
    "# Slicing\n",
    "if False:\n",
    "    print(countries[0:3])\n",
    "    print(countries[:3])\n",
    "    print(countries[17:])\n",
    "    print(countries[:])\n",
    "\n",
    "# Element types\n",
    "if True:\n",
    "    # U stands for unicode and 22 is the maximal length\n",
    "    print(countries.dtype)\n",
    "    print(employment.dtype)\n",
    "    print(np.array([0, 1, 2, 3]).dtype)\n",
    "    print(np.array([1.0, 1.5, 2.0, 2.5]).dtype)\n",
    "    print(np.array([True, False, True]).dtype)\n",
    "    # U2 as the maximal length is 2\n",
    "    print(np.array(['AL', 'AK', 'AZ', 'AR', 'CA']).dtype)\n",
    "\n",
    "# Looping\n",
    "if False:\n",
    "    for country in countries:\n",
    "        print('Examining country {}'.format(country))\n",
    "\n",
    "    for i in range(len(countries)):\n",
    "        country = countries[i]\n",
    "        country_employment = employment[i]\n",
    "        print('Country {} has employment {}'.format(country,\n",
    "                country_employment))\n",
    "\n",
    "# Numpy functions\n",
    "if False:\n",
    "    print(employment.mean())\n",
    "    print(employment.std())\n",
    "    print(employment.max())\n",
    "    print(employment.sum())\n",
    "\n"
   ]
  },
  {
   "cell_type": "code",
   "execution_count": 18,
   "metadata": {
    "collapsed": true
   },
   "outputs": [],
   "source": [
    "# the old way\n",
    "def max_employment(countries, employment):\n",
    "    '''\n",
    "    Fill in this function to return the name of the country\n",
    "    with the highest employment in the given employment\n",
    "    data, and the employment in that country.\n",
    "    '''\n",
    "    max_country = None      # Replace this with your code\n",
    "    max_value = 0.0   # Replace this with your code\n",
    "\n",
    "    for i in range(len(countries)):\n",
    "        if employment[i] > max_value:\n",
    "            max_value = employment[i]\n",
    "            max_country = countries[i]\n",
    "        \n",
    "    return (max_country, max_value)"
   ]
  },
  {
   "cell_type": "code",
   "execution_count": 19,
   "metadata": {},
   "outputs": [
    {
     "data": {
      "text/plain": [
       "('Angola', 75.699996949999999)"
      ]
     },
     "execution_count": 19,
     "metadata": {},
     "output_type": "execute_result"
    }
   ],
   "source": [
    "max_employment(countries, employment)"
   ]
  },
  {
   "cell_type": "code",
   "execution_count": 20,
   "metadata": {
    "collapsed": true
   },
   "outputs": [],
   "source": [
    "# easy numpy way\n",
    "def max_employment2(i_countries, i_employment):\n",
    "    # get the index of maximum argument\n",
    "    i = i_employment.argmax()\n",
    "    return (i_countries[i], i_employment[i])"
   ]
  },
  {
   "cell_type": "code",
   "execution_count": 21,
   "metadata": {},
   "outputs": [
    {
     "data": {
      "text/plain": [
       "('Angola', 75.699996949999999)"
      ]
     },
     "execution_count": 21,
     "metadata": {},
     "output_type": "execute_result"
    }
   ],
   "source": [
    "max_employment2(countries, employment)"
   ]
  },
  {
   "cell_type": "markdown",
   "metadata": {},
   "source": [
    "# Vector Operations"
   ]
  },
  {
   "cell_type": "code",
   "execution_count": 25,
   "metadata": {},
   "outputs": [
    {
     "name": "stdout",
     "output_type": "stream",
     "text": [
      "[False False False  True  True]\n",
      "[False False  True  True  True]\n",
      "[ True  True False False False]\n",
      "[ True  True  True False False]\n",
      "[False False  True False False]\n",
      "[ True  True False  True  True]\n"
     ]
    }
   ],
   "source": [
    "import numpy as np\n",
    "\n",
    "# Change False to True for each block of code to see what it does\n",
    "\n",
    "# Arithmetic operations between 2 NumPy arrays\n",
    "if False:\n",
    "    a = np.array([1, 2, 3, 4])\n",
    "    b = np.array([1, 2, 1, 2])\n",
    "    \n",
    "    print(a + b)\n",
    "    print(a - b)\n",
    "    print(a * b)\n",
    "    print(a / b)\n",
    "    print(a ** b)\n",
    "    \n",
    "# Arithmetic operations between a NumPy array and a single number\n",
    "if False:\n",
    "    a = np.array([1, 2, 3, 4])\n",
    "    b = 2\n",
    "    \n",
    "    print(a + b)\n",
    "    print(a - b)\n",
    "    print(a * b)\n",
    "    print(a / b)\n",
    "    print(a ** b)\n",
    "    \n",
    "# Logical operations with NumPy arrays\n",
    "if False:\n",
    "    a = np.array([True, True, False, False])\n",
    "    b = np.array([True, False, True, False])\n",
    "    \n",
    "    print(a & b)\n",
    "    print(a | b)\n",
    "    print(~a)\n",
    "    \n",
    "    print(a & True)\n",
    "    print(a & False)\n",
    "    \n",
    "    print(a | True)\n",
    "    print(a | False)\n",
    "    \n",
    "# Comparison operations between 2 NumPy Arrays\n",
    "if True:\n",
    "    a = np.array([1, 2, 3, 4, 5])\n",
    "    b = np.array([5, 4, 3, 2, 1])\n",
    "    \n",
    "    print(a > b)\n",
    "    print(a >= b)\n",
    "    print(a < b)\n",
    "    print(a <= b)\n",
    "    print(a == b)\n",
    "    print(a != b)\n",
    "    \n",
    "# Comparison operations between a NumPy array and a single number\n",
    "if False:\n",
    "    a = np.array([1, 2, 3, 4])\n",
    "    b = 2\n",
    "    \n",
    "    print(a > b)\n",
    "    print(a >= b)\n",
    "    print(a < b)\n",
    "    print(a <= b)\n",
    "    print(a == b)\n",
    "    print(a != b)\n",
    "    "
   ]
  },
  {
   "cell_type": "code",
   "execution_count": 26,
   "metadata": {
    "collapsed": true
   },
   "outputs": [],
   "source": [
    "# First 20 countries with school completion data\n",
    "countries = np.array([\n",
    "       'Algeria', 'Argentina', 'Armenia', 'Aruba', 'Austria','Azerbaijan',\n",
    "       'Bahamas', 'Barbados', 'Belarus', 'Belgium', 'Belize', 'Bolivia',\n",
    "       'Botswana', 'Brunei', 'Bulgaria', 'Burkina Faso', 'Burundi',\n",
    "       'Cambodia', 'Cameroon', 'Cape Verde'\n",
    "])\n",
    "\n",
    "# Female school completion rate in 2007 for those 20 countries\n",
    "female_completion = np.array([\n",
    "    97.35583,  104.62379,  103.02998,   95.14321,  103.69019,\n",
    "    98.49185,  100.88828,   95.43974,   92.11484,   91.54804,\n",
    "    95.98029,   98.22902,   96.12179,  119.28105,   97.84627,\n",
    "    29.07386,   38.41644,   90.70509,   51.7478 ,   95.45072\n",
    "])\n",
    "\n",
    "# Male school completion rate in 2007 for those 20 countries\n",
    "male_completion = np.array([\n",
    "     95.47622,  100.66476,   99.7926 ,   91.48936,  103.22096,\n",
    "     97.80458,  103.81398,   88.11736,   93.55611,   87.76347,\n",
    "    102.45714,   98.73953,   92.22388,  115.3892 ,   98.70502,\n",
    "     37.00692,   45.39401,   91.22084,   62.42028,   90.66958\n",
    "])"
   ]
  },
  {
   "cell_type": "code",
   "execution_count": 29,
   "metadata": {
    "collapsed": true
   },
   "outputs": [],
   "source": [
    "def overall_completion_rate(i_female_completion, i_male_completion):\n",
    "    '''\n",
    "    Fill in this function to return a NumPy array containing the overall\n",
    "    school completion rate for each country. The arguments are NumPy\n",
    "    arrays giving the female and male completion of each country in\n",
    "    the same order.\n",
    "    '''\n",
    "    return (i_female_completion + i_male_completion) / 2"
   ]
  },
  {
   "cell_type": "code",
   "execution_count": 30,
   "metadata": {},
   "outputs": [
    {
     "data": {
      "text/plain": [
       "array([  96.416025,  102.644275,  101.41129 ,   93.316285,  103.455575,\n",
       "         98.148215,  102.35113 ,   91.77855 ,   92.835475,   89.655755,\n",
       "         99.218715,   98.484275,   94.172835,  117.335125,   98.275645,\n",
       "         33.04039 ,   41.905225,   90.962965,   57.08404 ,   93.06015 ])"
      ]
     },
     "execution_count": 30,
     "metadata": {},
     "output_type": "execute_result"
    }
   ],
   "source": [
    "overall_completion_rate(female_completion, male_completion)"
   ]
  },
  {
   "cell_type": "markdown",
   "metadata": {},
   "source": [
    "# Calc standardized z score\n",
    "\n",
    " number of standard deviations that value is away from the mean of the data"
   ]
  },
  {
   "cell_type": "code",
   "execution_count": 31,
   "metadata": {
    "collapsed": true
   },
   "outputs": [],
   "source": [
    "import numpy as np\n",
    "\n",
    "# First 20 countries with employment data\n",
    "countries = np.array([\n",
    "    'Afghanistan', 'Albania', 'Algeria', 'Angola', 'Argentina',\n",
    "    'Armenia', 'Australia', 'Austria', 'Azerbaijan', 'Bahamas',\n",
    "    'Bahrain', 'Bangladesh', 'Barbados', 'Belarus', 'Belgium',\n",
    "    'Belize', 'Benin', 'Bhutan', 'Bolivia',\n",
    "    'Bosnia and Herzegovina'\n",
    "])\n",
    "\n",
    "# Employment data in 2007 for those 20 countries\n",
    "employment = np.array([\n",
    "    55.70000076,  51.40000153,  50.5       ,  75.69999695,\n",
    "    58.40000153,  40.09999847,  61.5       ,  57.09999847,\n",
    "    60.90000153,  66.59999847,  60.40000153,  68.09999847,\n",
    "    66.90000153,  53.40000153,  48.59999847,  56.79999924,\n",
    "    71.59999847,  58.40000153,  70.40000153,  41.20000076\n",
    "])\n",
    "\n",
    "# Change this country name to change what country will be printed when you\n",
    "# click \"Test Run\". Your function will be called to determine the standardized\n",
    "# score for this country for each of the given 5 Gapminder variables in 2007.\n",
    "# The possible country names are available in the Downloadables section.\n",
    "\n",
    "country_name = 'United States'\n"
   ]
  },
  {
   "cell_type": "code",
   "execution_count": 34,
   "metadata": {
    "collapsed": true
   },
   "outputs": [],
   "source": [
    "def standardize_data(values):\n",
    "    '''\n",
    "    Fill in this function to return a standardized version of the given values,\n",
    "    which will be in a NumPy array. Each value should be translated into the\n",
    "    number of standard deviations that value is away from the mean of the data.\n",
    "    (A positive number indicates a value higher than the mean, and a negative\n",
    "    number indicates a value lower than the mean.)\n",
    "    '''\n",
    "    return (values - values.mean()) / values.std()"
   ]
  },
  {
   "cell_type": "code",
   "execution_count": 35,
   "metadata": {},
   "outputs": [
    {
     "data": {
      "text/plain": [
       "array([-0.31965231, -0.780123  , -0.87650077,  1.82207181, -0.03051941,\n",
       "       -1.99019768,  0.30144772, -0.16973184,  0.23719615,  0.84758731,\n",
       "        0.18365304,  1.00821665,  0.87971351, -0.56595055, -1.07996476,\n",
       "       -0.20185762,  1.38301845, -0.03051941,  1.2545153 , -1.87240259])"
      ]
     },
     "execution_count": 35,
     "metadata": {},
     "output_type": "execute_result"
    }
   ],
   "source": [
    "standardize_data(employment)"
   ]
  },
  {
   "cell_type": "code",
   "execution_count": 36,
   "metadata": {},
   "outputs": [
    {
     "data": {
      "text/plain": [
       "array([-0.31965231, -0.780123  , -0.87650077,  1.82207181, -0.03051941,\n",
       "       -1.99019768,  0.30144772, -0.16973184,  0.23719615,  0.84758731,\n",
       "        0.18365304,  1.00821665,  0.87971351, -0.56595055, -1.07996476,\n",
       "       -0.20185762,  1.38301845, -0.03051941,  1.2545153 , -1.87240259])"
      ]
     },
     "execution_count": 36,
     "metadata": {},
     "output_type": "execute_result"
    }
   ],
   "source": [
    "# faster way with scipy\n",
    "from scipy import stats\n",
    "stats.zscore(employment)"
   ]
  },
  {
   "cell_type": "markdown",
   "metadata": {},
   "source": [
    "# NumPy Boolean Index Arrays"
   ]
  },
  {
   "cell_type": "code",
   "execution_count": 37,
   "metadata": {},
   "outputs": [
    {
     "data": {
      "text/plain": [
       "array([ 55.70000076,  51.40000153,  50.5       ,  75.69999695,\n",
       "        58.40000153,  61.5       ,  57.09999847,  60.90000153,\n",
       "        66.59999847,  60.40000153,  68.09999847,  66.90000153,\n",
       "        53.40000153,  56.79999924,  71.59999847,  58.40000153,  70.40000153])"
      ]
     },
     "execution_count": 37,
     "metadata": {},
     "output_type": "execute_result"
    }
   ],
   "source": [
    "employment[employment > 50]"
   ]
  },
  {
   "cell_type": "code",
   "execution_count": 45,
   "metadata": {},
   "outputs": [
    {
     "data": {
      "text/plain": [
       "array([ 75.69999695,  40.09999847,  48.59999847,  41.20000076])"
      ]
     },
     "execution_count": 45,
     "metadata": {},
     "output_type": "execute_result"
    }
   ],
   "source": [
    "# through the correct use of parantheses, the expressions are being converted to boolean\n",
    "employment[(employment < 50) | (employment == employment.max())]"
   ]
  },
  {
   "cell_type": "code",
   "execution_count": 47,
   "metadata": {
    "collapsed": true
   },
   "outputs": [],
   "source": [
    "import numpy as np\n",
    "\n",
    "# Change False to True for each block of code to see what it does\n",
    "\n",
    "# Using index arrays\n",
    "if False:\n",
    "    a = np.array([1, 2, 3, 4])\n",
    "    b = np.array([True, True, False, False])\n",
    "    \n",
    "    print(a[b])\n",
    "    print(a[np.array([True, False, True, False])])\n",
    "    \n",
    "# Creating the index array using vectorized operations\n",
    "if False:\n",
    "    a = np.array([1, 2, 3, 2, 1])\n",
    "    b = (a >= 2)\n",
    "    \n",
    "    print(a[b])\n",
    "    print(a[a >= 2])\n",
    "    \n",
    "# Creating the index array using vectorized operations on another array\n",
    "if False:\n",
    "    a = np.array([1, 2, 3, 4, 5])\n",
    "    b = np.array([1, 2, 3, 2, 1])\n",
    "    \n",
    "    print(b == 2)\n",
    "    print(a[b == 2])"
   ]
  },
  {
   "cell_type": "code",
   "execution_count": 49,
   "metadata": {
    "collapsed": true
   },
   "outputs": [],
   "source": [
    "def mean_time_for_paid_students(i_time_spent, i_days_to_cancel):\n",
    "    '''\n",
    "    Fill in this function to calculate the mean time spent in the classroom\n",
    "    for students who stayed enrolled at least (greater than or equal to) 7 days.\n",
    "    Unlike in Lesson 1, you can assume that days_to_cancel will contain only\n",
    "    integers (there are no students who have not canceled yet).\n",
    "    \n",
    "    The arguments are NumPy arrays. time_spent contains the amount of time spent\n",
    "    in the classroom for each student, and days_to_cancel contains the number\n",
    "    of days until each student cancel. The data is given in the same order\n",
    "    in both arrays.\n",
    "    '''\n",
    "    return i_time_spent[i_days_to_cancel >= 7].mean()\n",
    "\n",
    "# Time spent in the classroom in the first week for 20 students\n",
    "time_spent = np.array([\n",
    "       12.89697233,    0.        ,   64.55043217,    0.        ,\n",
    "       24.2315615 ,   39.991625  ,    0.        ,    0.        ,\n",
    "      147.20683783,    0.        ,    0.        ,    0.        ,\n",
    "       45.18261617,  157.60454283,  133.2434615 ,   52.85000767,\n",
    "        0.        ,   54.9204785 ,   26.78142417,    0.\n",
    "])\n",
    "\n",
    "# Days to cancel for 20 students\n",
    "days_to_cancel = np.array([\n",
    "      4,   5,  37,   3,  12,   4,  35,  38,   5,  37,   3,   3,  68,\n",
    "     38,  98,   2, 249,   2, 127,  35\n",
    "])\n"
   ]
  },
  {
   "cell_type": "code",
   "execution_count": 50,
   "metadata": {},
   "outputs": [
    {
     "data": {
      "text/plain": [
       "41.054003485454537"
      ]
     },
     "execution_count": 50,
     "metadata": {},
     "output_type": "execute_result"
    }
   ],
   "source": [
    "mean_time_for_paid_students(time_spent, days_to_cancel)"
   ]
  },
  {
   "cell_type": "markdown",
   "metadata": {},
   "source": [
    "# In-Place vs. Not InPlace"
   ]
  },
  {
   "cell_type": "markdown",
   "metadata": {},
   "source": [
    "* += operates in place\n",
    "* \\+ does not (creates new object)\n",
    "* slicing does not create new array either (only new view on array)\n",
    "\n",
    "==> careful when modifying arrays"
   ]
  },
  {
   "cell_type": "code",
   "execution_count": 56,
   "metadata": {},
   "outputs": [
    {
     "name": "stdout",
     "output_type": "stream",
     "text": [
      "[100   2   3   4   5]\n"
     ]
    }
   ],
   "source": [
    "import numpy as np\n",
    "a = np.array([1,2,3,4,5])\n",
    "my_slice = a[:3]\n",
    "my_slice[0] = 100\n",
    "print(a)"
   ]
  },
  {
   "cell_type": "code",
   "execution_count": 59,
   "metadata": {},
   "outputs": [
    {
     "name": "stdout",
     "output_type": "stream",
     "text": [
      "[1 2 3 4 5]\n"
     ]
    }
   ],
   "source": [
    "# not in place\n",
    "import numpy as np\n",
    "a = np.array([1,2,3,4,5])\n",
    "\n",
    "b = a\n",
    "# + creates new object and relocates pointer from a afterwards\n",
    "a = a + np.array([1,1,1,1,1])\n",
    "print(b)"
   ]
  },
  {
   "cell_type": "code",
   "execution_count": 60,
   "metadata": {},
   "outputs": [
    {
     "name": "stdout",
     "output_type": "stream",
     "text": [
      "[2 3 4 5 6]\n"
     ]
    }
   ],
   "source": [
    "# inplace\n",
    "import numpy as np\n",
    "a = np.array([1,2,3,4,5])\n",
    "\n",
    "b = a\n",
    "a += np.array([1,1,1,1,1])\n",
    "print(b)"
   ]
  },
  {
   "cell_type": "markdown",
   "metadata": {
    "collapsed": true
   },
   "source": [
    "# Pandas Series"
   ]
  },
  {
   "cell_type": "code",
   "execution_count": 6,
   "metadata": {},
   "outputs": [
    {
     "name": "stdout",
     "output_type": "stream",
     "text": [
      "73.44999999999999\n",
      "count    20.000000\n",
      "mean     72.870000\n",
      "std       6.213999\n",
      "min      57.600000\n",
      "25%      70.175000\n",
      "50%      73.450000\n",
      "75%      75.650000\n",
      "max      83.400000\n",
      "dtype: float64\n",
      "0.25    70.175\n",
      "0.50    73.450\n",
      "0.75    75.650\n",
      "dtype: float64\n"
     ]
    }
   ],
   "source": [
    "import pandas as pd\n",
    "\n",
    "countries = ['Albania', 'Algeria', 'Andorra', 'Angola', 'Antigua and Barbuda',\n",
    "             'Argentina', 'Armenia', 'Australia', 'Austria', 'Azerbaijan',\n",
    "             'Bahamas', 'Bahrain', 'Bangladesh', 'Barbados', 'Belarus',\n",
    "             'Belgium', 'Belize', 'Benin', 'Bhutan', 'Bolivia']\n",
    "\n",
    "life_expectancy_values = [74.7,  75. ,  83.4,  57.6,  74.6,  75.4,  72.3,  81.5,  80.2,\n",
    "                          70.3,  72.1,  76.4,  68.1,  75.2,  69.8,  79.4,  70.8,  62.7,\n",
    "                          67.3,  70.6]\n",
    "\n",
    "gdp_values = [ 1681.61390973,   2155.48523109,  21495.80508273,    562.98768478,\n",
    "              13495.1274663 ,   9388.68852258,   1424.19056199,  24765.54890176,\n",
    "              27036.48733192,   1945.63754911,  21721.61840978,  13373.21993972,\n",
    "                483.97086804,   9783.98417323,   2253.46411147,  25034.66692293,\n",
    "               3680.91642923,    366.04496652,   1175.92638695,   1132.21387981]\n",
    "\n",
    "# Life expectancy and gdp data in 2007 for 20 countries\n",
    "life_expectancy = pd.Series(life_expectancy_values)\n",
    "gdp = pd.Series(gdp_values)\n",
    "\n",
    "# Change False to True for each block of code to see what it does\n",
    "\n",
    "# describe method, quantiles\n",
    "if False:\n",
    "    print(life_expectancy.median())\n",
    "    print(life_expectancy.describe())\n",
    "    print(life_expectancy.quantile([.25, .5, .75]))\n",
    "\n",
    "# Accessing elements and slicing\n",
    "if False:\n",
    "    print(life_expectancy[0])\n",
    "    print(gdp[3:6])\n",
    "    \n",
    "# Looping\n",
    "if False:\n",
    "    for country_life_expectancy in life_expectancy:\n",
    "        print('Examining life expectancy {}'.format(country_life_expectancy))\n",
    "        \n",
    "# Pandas functions\n",
    "if False:\n",
    "    print(life_expectancy.mean())\n",
    "    print(life_expectancy.std())\n",
    "    print(gdp.max())\n",
    "    print(gdp.sum())\n",
    "\n",
    "# Vectorized operations and index arrays\n",
    "if False:\n",
    "    a = pd.Series([1, 2, 3, 4])\n",
    "    b = pd.Series([1, 2, 1, 2])\n",
    "  \n",
    "    print(a + b)\n",
    "    print(a * 2)\n",
    "    print(a >= 3)\n",
    "    print(a[a >= 3])\n"
   ]
  },
  {
   "cell_type": "code",
   "execution_count": 7,
   "metadata": {
    "collapsed": true
   },
   "outputs": [],
   "source": [
    "def variable_correlation(variable1, variable2):\n",
    "    '''\n",
    "    Fill in this function to calculate the number of data points for which\n",
    "    the directions of variable1 and variable2 relative to the mean are the\n",
    "    same, and the number of data points for which they are different.\n",
    "    Direction here means whether each value is above or below its mean.\n",
    "    \n",
    "    You can classify cases where the value is equal to the mean for one or\n",
    "    both variables however you like.\n",
    "    \n",
    "    Each argument will be a Pandas series. !!!\n",
    "    \n",
    "    For example, if the inputs were pd.Series([1, 2, 3, 4]) and\n",
    "    pd.Series([4, 5, 6, 7]), then the output would be (4, 0).\n",
    "    This is because 1 and 4 are both below their means, 2 and 5 are both\n",
    "    below, 3 and 6 are both above, and 4 and 7 are both above.\n",
    "    \n",
    "    On the other hand, if the inputs were pd.Series([1, 2, 3, 4]) and\n",
    "    pd.Series([7, 6, 5, 4]), then the output would be (0, 4).\n",
    "    This is because 1 is below its mean but 7 is above its mean, and\n",
    "    so on.\n",
    "    '''\n",
    "    num_same_direction = 0        \n",
    "    num_different_direction = 0   \n",
    "    \n",
    "    # calc means beforehand for speed\n",
    "    var1_mean = variable1.mean()\n",
    "    var2_mean = variable2.mean()\n",
    "    \n",
    "    for i in range(variable1.size):\n",
    "        diff_var1 =  variable1[i] - var1_mean \n",
    "        diff_var2 =  variable2[i] - var2_mean \n",
    "        \n",
    "        # - * - or + * +\n",
    "        if diff_var1 * diff_var2 >= 0:\n",
    "            num_same_direction += 1\n",
    "        # - * + or + * -\n",
    "        if diff_var1 * diff_var2 < 0:\n",
    "            num_different_direction += 1\n",
    "      \n",
    "    return (num_same_direction, num_different_direction)"
   ]
  },
  {
   "cell_type": "code",
   "execution_count": 8,
   "metadata": {},
   "outputs": [
    {
     "data": {
      "text/plain": [
       "(17, 3)"
      ]
     },
     "execution_count": 8,
     "metadata": {},
     "output_type": "execute_result"
    }
   ],
   "source": [
    "# indicates a positive or negative correlation (1 large,1 small)\n",
    "# if both equal: no correlation\n",
    "variable_correlation(life_expectancy, gdp)"
   ]
  },
  {
   "cell_type": "markdown",
   "metadata": {},
   "source": [
    "# Series Indexes\n",
    "Pandas Series like a cross between list and dict"
   ]
  },
  {
   "cell_type": "code",
   "execution_count": 12,
   "metadata": {},
   "outputs": [
    {
     "name": "stdout",
     "output_type": "stream",
     "text": [
      "74.7\n",
      "<pandas.core.indexing._iLocIndexer object at 0x00A336B0>\n",
      "<pandas.core.indexing._LocIndexer object at 0x00A33890>\n"
     ]
    }
   ],
   "source": [
    "import pandas as pd\n",
    "\n",
    "countries = [\n",
    "    'Afghanistan', 'Albania', 'Algeria', 'Angola',\n",
    "    'Argentina', 'Armenia', 'Australia', 'Austria',\n",
    "    'Azerbaijan', 'Bahamas', 'Bahrain', 'Bangladesh',\n",
    "    'Barbados', 'Belarus', 'Belgium', 'Belize',\n",
    "    'Benin', 'Bhutan', 'Bolivia', 'Bosnia and Herzegovina',\n",
    "]\n",
    "\n",
    "\n",
    "employment_values = [\n",
    "    55.70000076,  51.40000153,  50.5       ,  75.69999695,\n",
    "    58.40000153,  40.09999847,  61.5       ,  57.09999847,\n",
    "    60.90000153,  66.59999847,  60.40000153,  68.09999847,\n",
    "    66.90000153,  53.40000153,  48.59999847,  56.79999924,\n",
    "    71.59999847,  58.40000153,  70.40000153,  41.20000076,\n",
    "]\n",
    "\n",
    "# Employment data in 2007 for 20 countries\n",
    "employment = pd.Series(employment_values, index=countries)\n",
    "\n",
    "# by position\n",
    "print(life_expectancy[0])\n",
    "print(life_expectancy.iloc(0))\n",
    "\n",
    "# by index\n",
    "print(life_expectancy.loc('Bahamas'))"
   ]
  },
  {
   "cell_type": "code",
   "execution_count": 14,
   "metadata": {
    "collapsed": true
   },
   "outputs": [],
   "source": [
    "def max_employment(employment):\n",
    "    '''\n",
    "    Fill in this function to return the name of the country\n",
    "    with the highest employment in the given employment\n",
    "    data, and the employment in that country.\n",
    "    \n",
    "    The input will be a Pandas series where the values\n",
    "    are employment and the index is country names.\n",
    "    \n",
    "    Try using the Pandas idxmax() function. Documention can\n",
    "    be found here:\n",
    "    http://pandas.pydata.org/pandas-docs/stable/generated/pandas.Series.idxmax.html\n",
    "    '''\n",
    "    max_country = None      # Replace this with your code\n",
    "    max_value = None   # Replace this with your code\n",
    "\n",
    "    # equivalent to argmax of np.array\n",
    "    return (employment.idxmax(), employment.max())"
   ]
  },
  {
   "cell_type": "code",
   "execution_count": 15,
   "metadata": {},
   "outputs": [
    {
     "data": {
      "text/plain": [
       "('Angola', 75.699996949999999)"
      ]
     },
     "execution_count": 15,
     "metadata": {},
     "output_type": "execute_result"
    }
   ],
   "source": [
    "max_employment(employment)"
   ]
  },
  {
   "cell_type": "markdown",
   "metadata": {
    "collapsed": true
   },
   "source": [
    "# Vectorized Operations and Series Indexes"
   ]
  },
  {
   "cell_type": "code",
   "execution_count": 10,
   "metadata": {},
   "outputs": [
    {
     "name": "stdout",
     "output_type": "stream",
     "text": [
      "a     NaN\n",
      "b     NaN\n",
      "c    13.0\n",
      "d    24.0\n",
      "e     NaN\n",
      "f     NaN\n",
      "dtype: float64\n",
      "a   NaN\n",
      "b   NaN\n",
      "c   NaN\n",
      "d   NaN\n",
      "e   NaN\n",
      "f   NaN\n",
      "g   NaN\n",
      "h   NaN\n",
      "dtype: float64\n"
     ]
    }
   ],
   "source": [
    "import pandas as pd\n",
    "\n",
    "# Change False to True for each block of code to see what it does\n",
    "\n",
    "# Addition when indexes are the same\n",
    "if False:\n",
    "    s1 = pd.Series([1, 2, 3, 4], index=['a', 'b', 'c', 'd'])\n",
    "    s2 = pd.Series([10, 20, 30, 40], index=['a', 'b', 'c', 'd'])\n",
    "    print(s1 + s2)\n",
    "\n",
    "# Indexes have same elements in a different order\n",
    "if False:\n",
    "    s1 = pd.Series([1, 2, 3, 4], index=['a', 'b', 'c', 'd'])\n",
    "    s2 = pd.Series([10, 20, 30, 40], index=['b', 'd', 'a', 'c'])\n",
    "    print(s1 + s2)\n",
    "\n",
    "# Indexes overlap, but do not have exactly the same elements\n",
    "if True:\n",
    "    s1 = pd.Series([1, 2, 3, 4], index=['a', 'b', 'c', 'd'])\n",
    "    s2 = pd.Series([10, 20, 30, 40], index=['c', 'd', 'e', 'f'])\n",
    "    print(s1 + s2)\n",
    "    s3 = s1+s2\n",
    "\n",
    "# Indexes do not overlap\n",
    "if False:\n",
    "    s1 = pd.Series([1, 2, 3, 4], index=['a', 'b', 'c', 'd'])\n",
    "    s2 = pd.Series([10, 20, 30, 40], index=['e', 'f', 'g', 'h'])\n",
    "    print(s1 + s2)"
   ]
  },
  {
   "cell_type": "code",
   "execution_count": 11,
   "metadata": {},
   "outputs": [
    {
     "data": {
      "text/plain": [
       "c    13.0\n",
       "d    24.0\n",
       "dtype: float64"
      ]
     },
     "execution_count": 11,
     "metadata": {},
     "output_type": "execute_result"
    }
   ],
   "source": [
    "# dropping nan values\n",
    "s3.dropna()"
   ]
  },
  {
   "cell_type": "code",
   "execution_count": 13,
   "metadata": {
    "collapsed": true
   },
   "outputs": [],
   "source": [
    "import pandas as pd\n",
    "\n",
    "s1 = pd.Series([1, 2, 3, 4], index=['a', 'b', 'c', 'd'])\n",
    "s2 = pd.Series([10, 20, 30, 40], index=['c', 'd', 'e', 'f'])\n",
    "\n",
    "# Try to write code that will add the 2 previous series together,\n",
    "# but treating missing values from either series as 0. The result\n",
    "# when printed out should be similar to the following line:\n",
    "# print pd.Series([1, 2, 13, 24, 30, 40], index=['a', 'b', 'c', 'd', 'e', 'f'])"
   ]
  },
  {
   "cell_type": "code",
   "execution_count": 17,
   "metadata": {},
   "outputs": [
    {
     "name": "stdout",
     "output_type": "stream",
     "text": [
      "a     1.0\n",
      "b     2.0\n",
      "c    13.0\n",
      "d    24.0\n",
      "e    30.0\n",
      "f    40.0\n",
      "dtype: float64\n"
     ]
    }
   ],
   "source": [
    "s3 = s1.add(s2, fill_value=0)\n",
    "print(s3)"
   ]
  },
  {
   "cell_type": "markdown",
   "metadata": {},
   "source": [
    "# Non Built-In Calculations (apply)\n",
    "same as map()"
   ]
  },
  {
   "cell_type": "code",
   "execution_count": 23,
   "metadata": {},
   "outputs": [
    {
     "name": "stdout",
     "output_type": "stream",
     "text": [
      "0    2\n",
      "1    3\n",
      "2    4\n",
      "3    5\n",
      "4    6\n",
      "dtype: int64\n"
     ]
    }
   ],
   "source": [
    "# apply() takes a series and a function and returns a new series\n",
    "# equivalent to map() but based on series\n",
    "# apply is being used(applied) for each element of the Series\n",
    "\n",
    "\n",
    "import pandas as pd\n",
    "\n",
    "# Change False to True to see what the following block of code does\n",
    "\n",
    "# Example pandas apply() usage (although this could have been done\n",
    "# without apply() using vectorized operations)\n",
    "if True:\n",
    "    s = pd.Series([1, 2, 3, 4, 5])\n",
    "    def add_one(x):\n",
    "        return x + 1\n",
    "    # print(s.apply(add_one))\n",
    "\n",
    "    # or even simpler\n",
    "    print(s.apply(lambda x: x+1))\n"
   ]
  },
  {
   "cell_type": "code",
   "execution_count": 33,
   "metadata": {
    "collapsed": true
   },
   "outputs": [],
   "source": [
    "names = pd.Series([\n",
    "    'Andre Agassi',\n",
    "    'Barry Bonds',\n",
    "    'Christopher Columbus',\n",
    "    'Daniel Defoe',\n",
    "    'Emilio Estevez',\n",
    "    'Fred Flintstone',\n",
    "    'Greta Garbo',\n",
    "    'Humbert Humbert',\n",
    "    'Ivan Ilych',\n",
    "    'James Joyce',\n",
    "    'Keira Knightley',\n",
    "    'Lois Lane',\n",
    "    'Mike Myers',\n",
    "    'Nick Nolte',\n",
    "    'Ozzy Osbourne',\n",
    "    'Pablo Picasso',\n",
    "    'Quirinus Quirrell',\n",
    "    'Rachael Ray',\n",
    "    'Susan Sarandon',\n",
    "    'Tina Turner',\n",
    "    'Ugueth Urbina',\n",
    "    'Vince Vaughn',\n",
    "    'Woodrow Wilson',\n",
    "    'Yoji Yamada',\n",
    "    'Zinedine Zidane'\n",
    "])\n",
    "\n",
    "def reverse_names(names):\n",
    "    '''\n",
    "    Fill in this function to return a new series where each name\n",
    "    in the input series has been transformed from the format\n",
    "    \"Firstname Lastname\" to \"Lastname, FirstName\".\n",
    "    \n",
    "    Try to use the Pandas apply() function rather than a loop.\n",
    "    '''\n",
    "    # concatenate using + on strings\n",
    "    return names.apply(lambda x: x.split(' ')[1] + \", \" + x.split(' ')[0])\n"
   ]
  },
  {
   "cell_type": "code",
   "execution_count": 32,
   "metadata": {},
   "outputs": [
    {
     "data": {
      "text/plain": [
       "0             AgassiAndre\n",
       "1              BondsBarry\n",
       "2     ColumbusChristopher\n",
       "3             DefoeDaniel\n",
       "4           EstevezEmilio\n",
       "5          FlintstoneFred\n",
       "6              GarboGreta\n",
       "7          HumbertHumbert\n",
       "8               IlychIvan\n",
       "9              JoyceJames\n",
       "10         KnightleyKeira\n",
       "11               LaneLois\n",
       "12              MyersMike\n",
       "13              NolteNick\n",
       "14           OsbourneOzzy\n",
       "15           PicassoPablo\n",
       "16       QuirrellQuirinus\n",
       "17             RayRachael\n",
       "18          SarandonSusan\n",
       "19             TurnerTina\n",
       "20           UrbinaUgueth\n",
       "21            VaughnVince\n",
       "22          WilsonWoodrow\n",
       "23             YamadaYoji\n",
       "24         ZidaneZinedine\n",
       "dtype: object"
      ]
     },
     "execution_count": 32,
     "metadata": {},
     "output_type": "execute_result"
    }
   ],
   "source": [
    "reverse_names(names)"
   ]
  },
  {
   "cell_type": "markdown",
   "metadata": {},
   "source": [
    "# Plotting in Pandas"
   ]
  },
  {
   "cell_type": "code",
   "execution_count": 43,
   "metadata": {},
   "outputs": [
    {
     "data": {
      "text/plain": [
       "<matplotlib.axes._subplots.AxesSubplot at 0xa1d1370>"
      ]
     },
     "execution_count": 43,
     "metadata": {},
     "output_type": "execute_result"
    },
    {
     "data": {
      "image/png": "[encoded data removed]",
      "text/plain": [
       "<matplotlib.figure.Figure at 0xa1db3b0>"
      ]
     },
     "metadata": {},
     "output_type": "display_data"
    }
   ],
   "source": [
    "%matplotlib inline\n",
    "\n",
    "import matplotlib.pyplot as plt\n",
    "\n",
    "s2 = pd.Series([10, 20, 30, 40], index=['c', 'd', 'e', 'f'])\n",
    "\n",
    "#plt.hist(s2)\n",
    "#print(s2.hist())\n",
    "\n",
    "s2.plot() \n",
    "#plt.show() "
   ]
  },
  {
   "cell_type": "code",
   "execution_count": 44,
   "metadata": {},
   "outputs": [
    {
     "data": {
      "text/plain": [
       "(4,)"
      ]
     },
     "execution_count": 44,
     "metadata": {},
     "output_type": "execute_result"
    }
   ],
   "source": [
    "# 1 dimension, = axis 0\n",
    "s2.shape"
   ]
  },
  {
   "cell_type": "code",
   "execution_count": null,
   "metadata": {
    "collapsed": true
   },
   "outputs": [],
   "source": []
  }
 ],
 "metadata": {
  "kernelspec": {
   "display_name": "Python 3",
   "language": "python",
   "name": "python3"
  },
  "language_info": {
   "codemirror_mode": {
    "name": "ipython",
    "version": 3
   },
   "file_extension": ".py",
   "mimetype": "text/x-python",
   "name": "python",
   "nbconvert_exporter": "python",
   "pygments_lexer": "ipython3",
   "version": "3.5.3"
  }
 },
 "nbformat": 4,
 "nbformat_minor": 2
}
